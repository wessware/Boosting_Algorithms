{
  "cells": [
    {
      "cell_type": "code",
      "source": [
        "pip install catboost"
      ],
      "metadata": {
        "colab": {
          "base_uri": "https://localhost:8080/"
        },
        "id": "gRQT2fo6FzoP",
        "outputId": "e214ab27-9052-4932-9a2d-3c1b4f4d69fe"
      },
      "execution_count": 1,
      "outputs": [
        {
          "output_type": "stream",
          "name": "stdout",
          "text": [
            "Collecting catboost\n",
            "  Downloading catboost-1.0.5-cp37-none-manylinux1_x86_64.whl (76.6 MB)\n",
            "\u001b[K     |████████████████████████████████| 76.6 MB 52 kB/s \n",
            "\u001b[?25hRequirement already satisfied: numpy>=1.16.0 in /usr/local/lib/python3.7/dist-packages (from catboost) (1.21.6)\n",
            "Requirement already satisfied: pandas>=0.24.0 in /usr/local/lib/python3.7/dist-packages (from catboost) (1.3.5)\n",
            "Requirement already satisfied: six in /usr/local/lib/python3.7/dist-packages (from catboost) (1.15.0)\n",
            "Requirement already satisfied: graphviz in /usr/local/lib/python3.7/dist-packages (from catboost) (0.10.1)\n",
            "Requirement already satisfied: plotly in /usr/local/lib/python3.7/dist-packages (from catboost) (5.5.0)\n",
            "Requirement already satisfied: scipy in /usr/local/lib/python3.7/dist-packages (from catboost) (1.4.1)\n",
            "Requirement already satisfied: matplotlib in /usr/local/lib/python3.7/dist-packages (from catboost) (3.2.2)\n",
            "Requirement already satisfied: pytz>=2017.3 in /usr/local/lib/python3.7/dist-packages (from pandas>=0.24.0->catboost) (2022.1)\n",
            "Requirement already satisfied: python-dateutil>=2.7.3 in /usr/local/lib/python3.7/dist-packages (from pandas>=0.24.0->catboost) (2.8.2)\n",
            "Requirement already satisfied: kiwisolver>=1.0.1 in /usr/local/lib/python3.7/dist-packages (from matplotlib->catboost) (1.4.2)\n",
            "Requirement already satisfied: pyparsing!=2.0.4,!=2.1.2,!=2.1.6,>=2.0.1 in /usr/local/lib/python3.7/dist-packages (from matplotlib->catboost) (3.0.8)\n",
            "Requirement already satisfied: cycler>=0.10 in /usr/local/lib/python3.7/dist-packages (from matplotlib->catboost) (0.11.0)\n",
            "Requirement already satisfied: typing-extensions in /usr/local/lib/python3.7/dist-packages (from kiwisolver>=1.0.1->matplotlib->catboost) (4.2.0)\n",
            "Requirement already satisfied: tenacity>=6.2.0 in /usr/local/lib/python3.7/dist-packages (from plotly->catboost) (8.0.1)\n",
            "Installing collected packages: catboost\n",
            "Successfully installed catboost-1.0.5\n"
          ]
        }
      ]
    },
    {
      "cell_type": "code",
      "execution_count": 2,
      "metadata": {
        "id": "RHgsyC_rFS5J"
      },
      "outputs": [],
      "source": [
        "import pandas as pd\n",
        "import numpy as np \n",
        "\n",
        "from catboost import CatBoostClassifier\n",
        "\n",
        "from sklearn.model_selection import train_test_split\n",
        "from sklearn.model_selection import GridSearchCV\n",
        "\n",
        "from sklearn.metrics import mean_squared_error as mse\n",
        "\n",
        "import pickle"
      ]
    },
    {
      "cell_type": "code",
      "execution_count": 3,
      "metadata": {
        "id": "TmblhOHiFS5a"
      },
      "outputs": [],
      "source": [
        "df = pd.read_csv('/content/sample_data/synthesized_loan_data.csv')"
      ]
    },
    {
      "cell_type": "code",
      "execution_count": 4,
      "metadata": {
        "colab": {
          "base_uri": "https://localhost:8080/",
          "height": 488
        },
        "id": "BoLizqs8FS5c",
        "outputId": "bf3673a7-a6bf-4c23-ebf6-adcda0dcbd86"
      },
      "outputs": [
        {
          "output_type": "execute_result",
          "data": {
            "text/plain": [
              "      Gender  Married  Dependents  Education  Self_Employed  ApplicantIncome  \\\n",
              "0          1        1    1.015491          0              0               60   \n",
              "1          1        1    2.793550          1              2              299   \n",
              "2          0        0    1.020575          0              1              497   \n",
              "3          1        1    0.967628          0              0               35   \n",
              "4          1        1    1.929354          0              0              340   \n",
              "...      ...      ...         ...        ...            ...              ...   \n",
              "3995       1        1    2.118012          0              0              248   \n",
              "3996       0        0   -0.002574          0              0              249   \n",
              "3997       1        1    0.010152          0              0              300   \n",
              "3998       0        1   -0.002625          0              0              385   \n",
              "3999       1        1    0.007271          0              0              462   \n",
              "\n",
              "      CoapplicantIncome  LoanAmount  Loan_Amount_Term  Credit_History  \\\n",
              "0           2263.426739  120.264574        362.034926        0.999618   \n",
              "1            207.078743   97.333547        185.855127        0.994450   \n",
              "2           -222.105153   98.957504        361.411489        0.999132   \n",
              "3           1874.200797  141.121981        360.427013        0.999273   \n",
              "4             47.080906  322.936778        360.013915        0.979882   \n",
              "...                 ...         ...               ...             ...   \n",
              "3995        2693.049737  176.172212        360.665439        1.007047   \n",
              "3996        1949.728061  117.277610        361.044262        0.986177   \n",
              "3997        2882.202092  136.098872        361.722296        0.994603   \n",
              "3998         182.631094  191.733185        360.723093        0.989029   \n",
              "3999        2590.286571  119.756303        360.276315        0.997789   \n",
              "\n",
              "      Property_Area  Loan_Status  \n",
              "0                 2            1  \n",
              "1                 1            1  \n",
              "2                 0            1  \n",
              "3                 2            1  \n",
              "4                 0            1  \n",
              "...             ...          ...  \n",
              "3995              1            1  \n",
              "3996              1            1  \n",
              "3997              0            1  \n",
              "3998              1            0  \n",
              "3999              1            1  \n",
              "\n",
              "[4000 rows x 12 columns]"
            ],
            "text/html": [
              "\n",
              "  <div id=\"df-82311508-d6b9-45c8-ae38-2b11bc6eec16\">\n",
              "    <div class=\"colab-df-container\">\n",
              "      <div>\n",
              "<style scoped>\n",
              "    .dataframe tbody tr th:only-of-type {\n",
              "        vertical-align: middle;\n",
              "    }\n",
              "\n",
              "    .dataframe tbody tr th {\n",
              "        vertical-align: top;\n",
              "    }\n",
              "\n",
              "    .dataframe thead th {\n",
              "        text-align: right;\n",
              "    }\n",
              "</style>\n",
              "<table border=\"1\" class=\"dataframe\">\n",
              "  <thead>\n",
              "    <tr style=\"text-align: right;\">\n",
              "      <th></th>\n",
              "      <th>Gender</th>\n",
              "      <th>Married</th>\n",
              "      <th>Dependents</th>\n",
              "      <th>Education</th>\n",
              "      <th>Self_Employed</th>\n",
              "      <th>ApplicantIncome</th>\n",
              "      <th>CoapplicantIncome</th>\n",
              "      <th>LoanAmount</th>\n",
              "      <th>Loan_Amount_Term</th>\n",
              "      <th>Credit_History</th>\n",
              "      <th>Property_Area</th>\n",
              "      <th>Loan_Status</th>\n",
              "    </tr>\n",
              "  </thead>\n",
              "  <tbody>\n",
              "    <tr>\n",
              "      <th>0</th>\n",
              "      <td>1</td>\n",
              "      <td>1</td>\n",
              "      <td>1.015491</td>\n",
              "      <td>0</td>\n",
              "      <td>0</td>\n",
              "      <td>60</td>\n",
              "      <td>2263.426739</td>\n",
              "      <td>120.264574</td>\n",
              "      <td>362.034926</td>\n",
              "      <td>0.999618</td>\n",
              "      <td>2</td>\n",
              "      <td>1</td>\n",
              "    </tr>\n",
              "    <tr>\n",
              "      <th>1</th>\n",
              "      <td>1</td>\n",
              "      <td>1</td>\n",
              "      <td>2.793550</td>\n",
              "      <td>1</td>\n",
              "      <td>2</td>\n",
              "      <td>299</td>\n",
              "      <td>207.078743</td>\n",
              "      <td>97.333547</td>\n",
              "      <td>185.855127</td>\n",
              "      <td>0.994450</td>\n",
              "      <td>1</td>\n",
              "      <td>1</td>\n",
              "    </tr>\n",
              "    <tr>\n",
              "      <th>2</th>\n",
              "      <td>0</td>\n",
              "      <td>0</td>\n",
              "      <td>1.020575</td>\n",
              "      <td>0</td>\n",
              "      <td>1</td>\n",
              "      <td>497</td>\n",
              "      <td>-222.105153</td>\n",
              "      <td>98.957504</td>\n",
              "      <td>361.411489</td>\n",
              "      <td>0.999132</td>\n",
              "      <td>0</td>\n",
              "      <td>1</td>\n",
              "    </tr>\n",
              "    <tr>\n",
              "      <th>3</th>\n",
              "      <td>1</td>\n",
              "      <td>1</td>\n",
              "      <td>0.967628</td>\n",
              "      <td>0</td>\n",
              "      <td>0</td>\n",
              "      <td>35</td>\n",
              "      <td>1874.200797</td>\n",
              "      <td>141.121981</td>\n",
              "      <td>360.427013</td>\n",
              "      <td>0.999273</td>\n",
              "      <td>2</td>\n",
              "      <td>1</td>\n",
              "    </tr>\n",
              "    <tr>\n",
              "      <th>4</th>\n",
              "      <td>1</td>\n",
              "      <td>1</td>\n",
              "      <td>1.929354</td>\n",
              "      <td>0</td>\n",
              "      <td>0</td>\n",
              "      <td>340</td>\n",
              "      <td>47.080906</td>\n",
              "      <td>322.936778</td>\n",
              "      <td>360.013915</td>\n",
              "      <td>0.979882</td>\n",
              "      <td>0</td>\n",
              "      <td>1</td>\n",
              "    </tr>\n",
              "    <tr>\n",
              "      <th>...</th>\n",
              "      <td>...</td>\n",
              "      <td>...</td>\n",
              "      <td>...</td>\n",
              "      <td>...</td>\n",
              "      <td>...</td>\n",
              "      <td>...</td>\n",
              "      <td>...</td>\n",
              "      <td>...</td>\n",
              "      <td>...</td>\n",
              "      <td>...</td>\n",
              "      <td>...</td>\n",
              "      <td>...</td>\n",
              "    </tr>\n",
              "    <tr>\n",
              "      <th>3995</th>\n",
              "      <td>1</td>\n",
              "      <td>1</td>\n",
              "      <td>2.118012</td>\n",
              "      <td>0</td>\n",
              "      <td>0</td>\n",
              "      <td>248</td>\n",
              "      <td>2693.049737</td>\n",
              "      <td>176.172212</td>\n",
              "      <td>360.665439</td>\n",
              "      <td>1.007047</td>\n",
              "      <td>1</td>\n",
              "      <td>1</td>\n",
              "    </tr>\n",
              "    <tr>\n",
              "      <th>3996</th>\n",
              "      <td>0</td>\n",
              "      <td>0</td>\n",
              "      <td>-0.002574</td>\n",
              "      <td>0</td>\n",
              "      <td>0</td>\n",
              "      <td>249</td>\n",
              "      <td>1949.728061</td>\n",
              "      <td>117.277610</td>\n",
              "      <td>361.044262</td>\n",
              "      <td>0.986177</td>\n",
              "      <td>1</td>\n",
              "      <td>1</td>\n",
              "    </tr>\n",
              "    <tr>\n",
              "      <th>3997</th>\n",
              "      <td>1</td>\n",
              "      <td>1</td>\n",
              "      <td>0.010152</td>\n",
              "      <td>0</td>\n",
              "      <td>0</td>\n",
              "      <td>300</td>\n",
              "      <td>2882.202092</td>\n",
              "      <td>136.098872</td>\n",
              "      <td>361.722296</td>\n",
              "      <td>0.994603</td>\n",
              "      <td>0</td>\n",
              "      <td>1</td>\n",
              "    </tr>\n",
              "    <tr>\n",
              "      <th>3998</th>\n",
              "      <td>0</td>\n",
              "      <td>1</td>\n",
              "      <td>-0.002625</td>\n",
              "      <td>0</td>\n",
              "      <td>0</td>\n",
              "      <td>385</td>\n",
              "      <td>182.631094</td>\n",
              "      <td>191.733185</td>\n",
              "      <td>360.723093</td>\n",
              "      <td>0.989029</td>\n",
              "      <td>1</td>\n",
              "      <td>0</td>\n",
              "    </tr>\n",
              "    <tr>\n",
              "      <th>3999</th>\n",
              "      <td>1</td>\n",
              "      <td>1</td>\n",
              "      <td>0.007271</td>\n",
              "      <td>0</td>\n",
              "      <td>0</td>\n",
              "      <td>462</td>\n",
              "      <td>2590.286571</td>\n",
              "      <td>119.756303</td>\n",
              "      <td>360.276315</td>\n",
              "      <td>0.997789</td>\n",
              "      <td>1</td>\n",
              "      <td>1</td>\n",
              "    </tr>\n",
              "  </tbody>\n",
              "</table>\n",
              "<p>4000 rows × 12 columns</p>\n",
              "</div>\n",
              "      <button class=\"colab-df-convert\" onclick=\"convertToInteractive('df-82311508-d6b9-45c8-ae38-2b11bc6eec16')\"\n",
              "              title=\"Convert this dataframe to an interactive table.\"\n",
              "              style=\"display:none;\">\n",
              "        \n",
              "  <svg xmlns=\"http://www.w3.org/2000/svg\" height=\"24px\"viewBox=\"0 0 24 24\"\n",
              "       width=\"24px\">\n",
              "    <path d=\"M0 0h24v24H0V0z\" fill=\"none\"/>\n",
              "    <path d=\"M18.56 5.44l.94 2.06.94-2.06 2.06-.94-2.06-.94-.94-2.06-.94 2.06-2.06.94zm-11 1L8.5 8.5l.94-2.06 2.06-.94-2.06-.94L8.5 2.5l-.94 2.06-2.06.94zm10 10l.94 2.06.94-2.06 2.06-.94-2.06-.94-.94-2.06-.94 2.06-2.06.94z\"/><path d=\"M17.41 7.96l-1.37-1.37c-.4-.4-.92-.59-1.43-.59-.52 0-1.04.2-1.43.59L10.3 9.45l-7.72 7.72c-.78.78-.78 2.05 0 2.83L4 21.41c.39.39.9.59 1.41.59.51 0 1.02-.2 1.41-.59l7.78-7.78 2.81-2.81c.8-.78.8-2.07 0-2.86zM5.41 20L4 18.59l7.72-7.72 1.47 1.35L5.41 20z\"/>\n",
              "  </svg>\n",
              "      </button>\n",
              "      \n",
              "  <style>\n",
              "    .colab-df-container {\n",
              "      display:flex;\n",
              "      flex-wrap:wrap;\n",
              "      gap: 12px;\n",
              "    }\n",
              "\n",
              "    .colab-df-convert {\n",
              "      background-color: #E8F0FE;\n",
              "      border: none;\n",
              "      border-radius: 50%;\n",
              "      cursor: pointer;\n",
              "      display: none;\n",
              "      fill: #1967D2;\n",
              "      height: 32px;\n",
              "      padding: 0 0 0 0;\n",
              "      width: 32px;\n",
              "    }\n",
              "\n",
              "    .colab-df-convert:hover {\n",
              "      background-color: #E2EBFA;\n",
              "      box-shadow: 0px 1px 2px rgba(60, 64, 67, 0.3), 0px 1px 3px 1px rgba(60, 64, 67, 0.15);\n",
              "      fill: #174EA6;\n",
              "    }\n",
              "\n",
              "    [theme=dark] .colab-df-convert {\n",
              "      background-color: #3B4455;\n",
              "      fill: #D2E3FC;\n",
              "    }\n",
              "\n",
              "    [theme=dark] .colab-df-convert:hover {\n",
              "      background-color: #434B5C;\n",
              "      box-shadow: 0px 1px 3px 1px rgba(0, 0, 0, 0.15);\n",
              "      filter: drop-shadow(0px 1px 2px rgba(0, 0, 0, 0.3));\n",
              "      fill: #FFFFFF;\n",
              "    }\n",
              "  </style>\n",
              "\n",
              "      <script>\n",
              "        const buttonEl =\n",
              "          document.querySelector('#df-82311508-d6b9-45c8-ae38-2b11bc6eec16 button.colab-df-convert');\n",
              "        buttonEl.style.display =\n",
              "          google.colab.kernel.accessAllowed ? 'block' : 'none';\n",
              "\n",
              "        async function convertToInteractive(key) {\n",
              "          const element = document.querySelector('#df-82311508-d6b9-45c8-ae38-2b11bc6eec16');\n",
              "          const dataTable =\n",
              "            await google.colab.kernel.invokeFunction('convertToInteractive',\n",
              "                                                     [key], {});\n",
              "          if (!dataTable) return;\n",
              "\n",
              "          const docLinkHtml = 'Like what you see? Visit the ' +\n",
              "            '<a target=\"_blank\" href=https://colab.research.google.com/notebooks/data_table.ipynb>data table notebook</a>'\n",
              "            + ' to learn more about interactive tables.';\n",
              "          element.innerHTML = '';\n",
              "          dataTable['output_type'] = 'display_data';\n",
              "          await google.colab.output.renderOutput(dataTable, element);\n",
              "          const docLink = document.createElement('div');\n",
              "          docLink.innerHTML = docLinkHtml;\n",
              "          element.appendChild(docLink);\n",
              "        }\n",
              "      </script>\n",
              "    </div>\n",
              "  </div>\n",
              "  "
            ]
          },
          "metadata": {},
          "execution_count": 4
        }
      ],
      "source": [
        "df"
      ]
    },
    {
      "cell_type": "code",
      "execution_count": 5,
      "metadata": {
        "colab": {
          "base_uri": "https://localhost:8080/"
        },
        "id": "AaCdivGmFS5g",
        "outputId": "ff754524-4825-44dd-f5f3-979b1bf6f8f7"
      },
      "outputs": [
        {
          "output_type": "execute_result",
          "data": {
            "text/plain": [
              "Index(['Gender', 'Married', 'Dependents', 'Education', 'Self_Employed',\n",
              "       'ApplicantIncome', 'CoapplicantIncome', 'LoanAmount',\n",
              "       'Loan_Amount_Term', 'Credit_History', 'Property_Area', 'Loan_Status'],\n",
              "      dtype='object')"
            ]
          },
          "metadata": {},
          "execution_count": 5
        }
      ],
      "source": [
        "df.columns"
      ]
    },
    {
      "cell_type": "code",
      "execution_count": 6,
      "metadata": {
        "id": "KK-HVqrsFS5j"
      },
      "outputs": [],
      "source": [
        "train_cols = ['Gender', 'Married', 'Dependents', 'Education', 'Self_Employed',\n",
        "       'ApplicantIncome', 'CoapplicantIncome', 'LoanAmount',\n",
        "       'Loan_Amount_Term', 'Credit_History', 'Property_Area']\n",
        "\n",
        "x = df[train_cols]\n",
        "y = df['Loan_Status']"
      ]
    },
    {
      "cell_type": "code",
      "execution_count": 7,
      "metadata": {
        "colab": {
          "base_uri": "https://localhost:8080/",
          "height": 488
        },
        "id": "4Y3bFMpIFS5l",
        "outputId": "a42a8459-5c06-4a85-f725-b85e69578924"
      },
      "outputs": [
        {
          "output_type": "execute_result",
          "data": {
            "text/plain": [
              "      Gender  Married  Dependents  Education  Self_Employed  ApplicantIncome  \\\n",
              "0          1        1    1.015491          0              0               60   \n",
              "1          1        1    2.793550          1              2              299   \n",
              "2          0        0    1.020575          0              1              497   \n",
              "3          1        1    0.967628          0              0               35   \n",
              "4          1        1    1.929354          0              0              340   \n",
              "...      ...      ...         ...        ...            ...              ...   \n",
              "3995       1        1    2.118012          0              0              248   \n",
              "3996       0        0   -0.002574          0              0              249   \n",
              "3997       1        1    0.010152          0              0              300   \n",
              "3998       0        1   -0.002625          0              0              385   \n",
              "3999       1        1    0.007271          0              0              462   \n",
              "\n",
              "      CoapplicantIncome  LoanAmount  Loan_Amount_Term  Credit_History  \\\n",
              "0           2263.426739  120.264574        362.034926        0.999618   \n",
              "1            207.078743   97.333547        185.855127        0.994450   \n",
              "2           -222.105153   98.957504        361.411489        0.999132   \n",
              "3           1874.200797  141.121981        360.427013        0.999273   \n",
              "4             47.080906  322.936778        360.013915        0.979882   \n",
              "...                 ...         ...               ...             ...   \n",
              "3995        2693.049737  176.172212        360.665439        1.007047   \n",
              "3996        1949.728061  117.277610        361.044262        0.986177   \n",
              "3997        2882.202092  136.098872        361.722296        0.994603   \n",
              "3998         182.631094  191.733185        360.723093        0.989029   \n",
              "3999        2590.286571  119.756303        360.276315        0.997789   \n",
              "\n",
              "      Property_Area  \n",
              "0                 2  \n",
              "1                 1  \n",
              "2                 0  \n",
              "3                 2  \n",
              "4                 0  \n",
              "...             ...  \n",
              "3995              1  \n",
              "3996              1  \n",
              "3997              0  \n",
              "3998              1  \n",
              "3999              1  \n",
              "\n",
              "[4000 rows x 11 columns]"
            ],
            "text/html": [
              "\n",
              "  <div id=\"df-6c1fb044-174b-48a8-9735-ccb75cbfe0ff\">\n",
              "    <div class=\"colab-df-container\">\n",
              "      <div>\n",
              "<style scoped>\n",
              "    .dataframe tbody tr th:only-of-type {\n",
              "        vertical-align: middle;\n",
              "    }\n",
              "\n",
              "    .dataframe tbody tr th {\n",
              "        vertical-align: top;\n",
              "    }\n",
              "\n",
              "    .dataframe thead th {\n",
              "        text-align: right;\n",
              "    }\n",
              "</style>\n",
              "<table border=\"1\" class=\"dataframe\">\n",
              "  <thead>\n",
              "    <tr style=\"text-align: right;\">\n",
              "      <th></th>\n",
              "      <th>Gender</th>\n",
              "      <th>Married</th>\n",
              "      <th>Dependents</th>\n",
              "      <th>Education</th>\n",
              "      <th>Self_Employed</th>\n",
              "      <th>ApplicantIncome</th>\n",
              "      <th>CoapplicantIncome</th>\n",
              "      <th>LoanAmount</th>\n",
              "      <th>Loan_Amount_Term</th>\n",
              "      <th>Credit_History</th>\n",
              "      <th>Property_Area</th>\n",
              "    </tr>\n",
              "  </thead>\n",
              "  <tbody>\n",
              "    <tr>\n",
              "      <th>0</th>\n",
              "      <td>1</td>\n",
              "      <td>1</td>\n",
              "      <td>1.015491</td>\n",
              "      <td>0</td>\n",
              "      <td>0</td>\n",
              "      <td>60</td>\n",
              "      <td>2263.426739</td>\n",
              "      <td>120.264574</td>\n",
              "      <td>362.034926</td>\n",
              "      <td>0.999618</td>\n",
              "      <td>2</td>\n",
              "    </tr>\n",
              "    <tr>\n",
              "      <th>1</th>\n",
              "      <td>1</td>\n",
              "      <td>1</td>\n",
              "      <td>2.793550</td>\n",
              "      <td>1</td>\n",
              "      <td>2</td>\n",
              "      <td>299</td>\n",
              "      <td>207.078743</td>\n",
              "      <td>97.333547</td>\n",
              "      <td>185.855127</td>\n",
              "      <td>0.994450</td>\n",
              "      <td>1</td>\n",
              "    </tr>\n",
              "    <tr>\n",
              "      <th>2</th>\n",
              "      <td>0</td>\n",
              "      <td>0</td>\n",
              "      <td>1.020575</td>\n",
              "      <td>0</td>\n",
              "      <td>1</td>\n",
              "      <td>497</td>\n",
              "      <td>-222.105153</td>\n",
              "      <td>98.957504</td>\n",
              "      <td>361.411489</td>\n",
              "      <td>0.999132</td>\n",
              "      <td>0</td>\n",
              "    </tr>\n",
              "    <tr>\n",
              "      <th>3</th>\n",
              "      <td>1</td>\n",
              "      <td>1</td>\n",
              "      <td>0.967628</td>\n",
              "      <td>0</td>\n",
              "      <td>0</td>\n",
              "      <td>35</td>\n",
              "      <td>1874.200797</td>\n",
              "      <td>141.121981</td>\n",
              "      <td>360.427013</td>\n",
              "      <td>0.999273</td>\n",
              "      <td>2</td>\n",
              "    </tr>\n",
              "    <tr>\n",
              "      <th>4</th>\n",
              "      <td>1</td>\n",
              "      <td>1</td>\n",
              "      <td>1.929354</td>\n",
              "      <td>0</td>\n",
              "      <td>0</td>\n",
              "      <td>340</td>\n",
              "      <td>47.080906</td>\n",
              "      <td>322.936778</td>\n",
              "      <td>360.013915</td>\n",
              "      <td>0.979882</td>\n",
              "      <td>0</td>\n",
              "    </tr>\n",
              "    <tr>\n",
              "      <th>...</th>\n",
              "      <td>...</td>\n",
              "      <td>...</td>\n",
              "      <td>...</td>\n",
              "      <td>...</td>\n",
              "      <td>...</td>\n",
              "      <td>...</td>\n",
              "      <td>...</td>\n",
              "      <td>...</td>\n",
              "      <td>...</td>\n",
              "      <td>...</td>\n",
              "      <td>...</td>\n",
              "    </tr>\n",
              "    <tr>\n",
              "      <th>3995</th>\n",
              "      <td>1</td>\n",
              "      <td>1</td>\n",
              "      <td>2.118012</td>\n",
              "      <td>0</td>\n",
              "      <td>0</td>\n",
              "      <td>248</td>\n",
              "      <td>2693.049737</td>\n",
              "      <td>176.172212</td>\n",
              "      <td>360.665439</td>\n",
              "      <td>1.007047</td>\n",
              "      <td>1</td>\n",
              "    </tr>\n",
              "    <tr>\n",
              "      <th>3996</th>\n",
              "      <td>0</td>\n",
              "      <td>0</td>\n",
              "      <td>-0.002574</td>\n",
              "      <td>0</td>\n",
              "      <td>0</td>\n",
              "      <td>249</td>\n",
              "      <td>1949.728061</td>\n",
              "      <td>117.277610</td>\n",
              "      <td>361.044262</td>\n",
              "      <td>0.986177</td>\n",
              "      <td>1</td>\n",
              "    </tr>\n",
              "    <tr>\n",
              "      <th>3997</th>\n",
              "      <td>1</td>\n",
              "      <td>1</td>\n",
              "      <td>0.010152</td>\n",
              "      <td>0</td>\n",
              "      <td>0</td>\n",
              "      <td>300</td>\n",
              "      <td>2882.202092</td>\n",
              "      <td>136.098872</td>\n",
              "      <td>361.722296</td>\n",
              "      <td>0.994603</td>\n",
              "      <td>0</td>\n",
              "    </tr>\n",
              "    <tr>\n",
              "      <th>3998</th>\n",
              "      <td>0</td>\n",
              "      <td>1</td>\n",
              "      <td>-0.002625</td>\n",
              "      <td>0</td>\n",
              "      <td>0</td>\n",
              "      <td>385</td>\n",
              "      <td>182.631094</td>\n",
              "      <td>191.733185</td>\n",
              "      <td>360.723093</td>\n",
              "      <td>0.989029</td>\n",
              "      <td>1</td>\n",
              "    </tr>\n",
              "    <tr>\n",
              "      <th>3999</th>\n",
              "      <td>1</td>\n",
              "      <td>1</td>\n",
              "      <td>0.007271</td>\n",
              "      <td>0</td>\n",
              "      <td>0</td>\n",
              "      <td>462</td>\n",
              "      <td>2590.286571</td>\n",
              "      <td>119.756303</td>\n",
              "      <td>360.276315</td>\n",
              "      <td>0.997789</td>\n",
              "      <td>1</td>\n",
              "    </tr>\n",
              "  </tbody>\n",
              "</table>\n",
              "<p>4000 rows × 11 columns</p>\n",
              "</div>\n",
              "      <button class=\"colab-df-convert\" onclick=\"convertToInteractive('df-6c1fb044-174b-48a8-9735-ccb75cbfe0ff')\"\n",
              "              title=\"Convert this dataframe to an interactive table.\"\n",
              "              style=\"display:none;\">\n",
              "        \n",
              "  <svg xmlns=\"http://www.w3.org/2000/svg\" height=\"24px\"viewBox=\"0 0 24 24\"\n",
              "       width=\"24px\">\n",
              "    <path d=\"M0 0h24v24H0V0z\" fill=\"none\"/>\n",
              "    <path d=\"M18.56 5.44l.94 2.06.94-2.06 2.06-.94-2.06-.94-.94-2.06-.94 2.06-2.06.94zm-11 1L8.5 8.5l.94-2.06 2.06-.94-2.06-.94L8.5 2.5l-.94 2.06-2.06.94zm10 10l.94 2.06.94-2.06 2.06-.94-2.06-.94-.94-2.06-.94 2.06-2.06.94z\"/><path d=\"M17.41 7.96l-1.37-1.37c-.4-.4-.92-.59-1.43-.59-.52 0-1.04.2-1.43.59L10.3 9.45l-7.72 7.72c-.78.78-.78 2.05 0 2.83L4 21.41c.39.39.9.59 1.41.59.51 0 1.02-.2 1.41-.59l7.78-7.78 2.81-2.81c.8-.78.8-2.07 0-2.86zM5.41 20L4 18.59l7.72-7.72 1.47 1.35L5.41 20z\"/>\n",
              "  </svg>\n",
              "      </button>\n",
              "      \n",
              "  <style>\n",
              "    .colab-df-container {\n",
              "      display:flex;\n",
              "      flex-wrap:wrap;\n",
              "      gap: 12px;\n",
              "    }\n",
              "\n",
              "    .colab-df-convert {\n",
              "      background-color: #E8F0FE;\n",
              "      border: none;\n",
              "      border-radius: 50%;\n",
              "      cursor: pointer;\n",
              "      display: none;\n",
              "      fill: #1967D2;\n",
              "      height: 32px;\n",
              "      padding: 0 0 0 0;\n",
              "      width: 32px;\n",
              "    }\n",
              "\n",
              "    .colab-df-convert:hover {\n",
              "      background-color: #E2EBFA;\n",
              "      box-shadow: 0px 1px 2px rgba(60, 64, 67, 0.3), 0px 1px 3px 1px rgba(60, 64, 67, 0.15);\n",
              "      fill: #174EA6;\n",
              "    }\n",
              "\n",
              "    [theme=dark] .colab-df-convert {\n",
              "      background-color: #3B4455;\n",
              "      fill: #D2E3FC;\n",
              "    }\n",
              "\n",
              "    [theme=dark] .colab-df-convert:hover {\n",
              "      background-color: #434B5C;\n",
              "      box-shadow: 0px 1px 3px 1px rgba(0, 0, 0, 0.15);\n",
              "      filter: drop-shadow(0px 1px 2px rgba(0, 0, 0, 0.3));\n",
              "      fill: #FFFFFF;\n",
              "    }\n",
              "  </style>\n",
              "\n",
              "      <script>\n",
              "        const buttonEl =\n",
              "          document.querySelector('#df-6c1fb044-174b-48a8-9735-ccb75cbfe0ff button.colab-df-convert');\n",
              "        buttonEl.style.display =\n",
              "          google.colab.kernel.accessAllowed ? 'block' : 'none';\n",
              "\n",
              "        async function convertToInteractive(key) {\n",
              "          const element = document.querySelector('#df-6c1fb044-174b-48a8-9735-ccb75cbfe0ff');\n",
              "          const dataTable =\n",
              "            await google.colab.kernel.invokeFunction('convertToInteractive',\n",
              "                                                     [key], {});\n",
              "          if (!dataTable) return;\n",
              "\n",
              "          const docLinkHtml = 'Like what you see? Visit the ' +\n",
              "            '<a target=\"_blank\" href=https://colab.research.google.com/notebooks/data_table.ipynb>data table notebook</a>'\n",
              "            + ' to learn more about interactive tables.';\n",
              "          element.innerHTML = '';\n",
              "          dataTable['output_type'] = 'display_data';\n",
              "          await google.colab.output.renderOutput(dataTable, element);\n",
              "          const docLink = document.createElement('div');\n",
              "          docLink.innerHTML = docLinkHtml;\n",
              "          element.appendChild(docLink);\n",
              "        }\n",
              "      </script>\n",
              "    </div>\n",
              "  </div>\n",
              "  "
            ]
          },
          "metadata": {},
          "execution_count": 7
        }
      ],
      "source": [
        "x"
      ]
    },
    {
      "cell_type": "code",
      "execution_count": 8,
      "metadata": {
        "colab": {
          "base_uri": "https://localhost:8080/"
        },
        "id": "oSjx9eAvFS5o",
        "outputId": "005daf9c-0fa8-4b1c-a911-4b1ea05123fb"
      },
      "outputs": [
        {
          "output_type": "execute_result",
          "data": {
            "text/plain": [
              "0       1\n",
              "1       1\n",
              "2       1\n",
              "3       1\n",
              "4       1\n",
              "       ..\n",
              "3995    1\n",
              "3996    1\n",
              "3997    1\n",
              "3998    0\n",
              "3999    1\n",
              "Name: Loan_Status, Length: 4000, dtype: int64"
            ]
          },
          "metadata": {},
          "execution_count": 8
        }
      ],
      "source": [
        "y"
      ]
    },
    {
      "cell_type": "code",
      "execution_count": 9,
      "metadata": {
        "id": "_-oY1dN9FS5r"
      },
      "outputs": [],
      "source": [
        "x_train, x_test, y_train, y_test = train_test_split(x, y, test_size=0.3, random_state=20)"
      ]
    },
    {
      "cell_type": "code",
      "execution_count": 10,
      "metadata": {
        "id": "4fU8Yb7iFS5t"
      },
      "outputs": [],
      "source": [
        "cb_sy_grid = CatBoostClassifier(n_estimators=100,\n",
        "                       loss_function='Logloss',\n",
        "                       learning_rate=0.1,\n",
        "                       objective='CrossEntropy',\n",
        "                       #colsample_bylevel= 0.06,\n",
        "                        task_type='CPU',\n",
        "                        #boosting_type='Plain', \n",
        "                       random_state=1,\n",
        "                       verbose=False)"
      ]
    },
    {
      "cell_type": "code",
      "execution_count": 11,
      "metadata": {
        "id": "aU8Z7e1-FS5x"
      },
      "outputs": [],
      "source": [
        "grid_loan = {\n",
        "    'max_depth' : [3, 4, 5],\n",
        "    'n_estimators' : [100, 200, 300],\n",
        "    #'learning_rate' : [0.01, 0.05, 0.1],\n",
        "    #'subsample' : [0.1, 0.2, 0.4, 0.8],\n",
        "    'colsample_bylevel' : [0.01, 0.05, 0.09]\n",
        "}"
      ]
    },
    {
      "cell_type": "code",
      "execution_count": 12,
      "metadata": {
        "id": "Hz2CDNZVFS50"
      },
      "outputs": [],
      "source": [
        "grid_cat = GridSearchCV(\n",
        "    estimator = cb_sy_grid,\n",
        "    param_grid= grid_loan,\n",
        "    scoring= 'accuracy',\n",
        "    cv = 5\n",
        ")"
      ]
    },
    {
      "cell_type": "code",
      "execution_count": 13,
      "metadata": {
        "colab": {
          "base_uri": "https://localhost:8080/"
        },
        "id": "bkJQilGLFS52",
        "outputId": "d31021fb-d70a-4a0a-f17c-7a97c9017d2d"
      },
      "outputs": [
        {
          "output_type": "execute_result",
          "data": {
            "text/plain": [
              "GridSearchCV(cv=5,\n",
              "             estimator=<catboost.core.CatBoostClassifier object at 0x7f5f148fac90>,\n",
              "             param_grid={'colsample_bylevel': [0.01, 0.05, 0.09],\n",
              "                         'max_depth': [3, 4, 5],\n",
              "                         'n_estimators': [100, 200, 300]},\n",
              "             scoring='accuracy')"
            ]
          },
          "metadata": {},
          "execution_count": 13
        }
      ],
      "source": [
        "grid_cat.fit(x_train, y_train)"
      ]
    },
    {
      "cell_type": "code",
      "execution_count": 14,
      "metadata": {
        "id": "34pjZBq6FS53"
      },
      "outputs": [],
      "source": [
        "loan_predicted = grid_cat.predict(x_test)"
      ]
    },
    {
      "cell_type": "code",
      "execution_count": 15,
      "metadata": {
        "id": "qNU2duOAFS54"
      },
      "outputs": [],
      "source": [
        "model_rmse_grid = np.sqrt(mse(y_test, loan_predicted))"
      ]
    },
    {
      "cell_type": "code",
      "execution_count": 16,
      "metadata": {
        "colab": {
          "base_uri": "https://localhost:8080/"
        },
        "id": "Xlxcrf42FS56",
        "outputId": "6c317ffb-b43c-4cc3-c260-0dad3c7e43ee"
      },
      "outputs": [
        {
          "output_type": "execute_result",
          "data": {
            "text/plain": [
              "0.27988092706244444"
            ]
          },
          "metadata": {},
          "execution_count": 16
        }
      ],
      "source": [
        "model_rmse_grid\n"
      ]
    },
    {
      "cell_type": "code",
      "execution_count": 17,
      "metadata": {
        "id": "muNdycJMFS57"
      },
      "outputs": [],
      "source": [
        "#large grid 0.279888\n",
        "#small grid 0.292973\n",
        "#smaller grid_0 0.284312\n",
        "#smaller grid_1 0.2828427\n",
        "#smaller grid_2 0.276887\n",
        "#smaller grid_3 0.28722813\n",
        "#smaller grid_4 0.28431203\n",
        "#smaller grid_5 0.279888092\n"
      ]
    },
    {
      "cell_type": "code",
      "execution_count": 18,
      "metadata": {
        "id": "CJ0vJEQMFS59"
      },
      "outputs": [],
      "source": [
        "def predict_discrete (grid_cat, single_input):\n",
        "    #Data preparation\n",
        "    input_df = pd.DataFrame([single_input])\n",
        "    \n",
        "    #input_df[numerical_cols] = imputer.transform(input_df[numerical_cols])\n",
        "    #input_df[numerical_cols] = scaler.transform(input_df[numerical_cols])\n",
        "    #input_df[encoded_cols] = encoder.transform(input_df[categorical_cols])\n",
        "\n",
        "    x_input = input_df\n",
        "    predictions = grid_cat.predict(x_input)[0]\n",
        "    probability = grid_cat.predict_proba(x_input)[0][list(grid_cat.classes_).index(predictions)]\n",
        "\n",
        "    return predictions, probability"
      ]
    },
    {
      "cell_type": "code",
      "execution_count": 19,
      "metadata": {
        "id": "79WODxgkFS5-"
      },
      "outputs": [],
      "source": [
        "single_instance = {\n",
        "    'Gender' : 1, \n",
        "    'Married' : 1, \n",
        "    'Dependents' : 1.02, \n",
        "    'Education' : 0, \n",
        "    'Self_Employed' : 0,\n",
        "       'ApplicantIncome': 60, \n",
        "       'CoapplicantIncome' : 2263.43, \n",
        "       'LoanAmount' : 362.03,\n",
        "       'Loan_Amount_Term' : 360, \n",
        "       'Credit_History' : 1, \n",
        "       'Property_Area': 2,\n",
        "}"
      ]
    },
    {
      "cell_type": "code",
      "execution_count": 20,
      "metadata": {
        "colab": {
          "base_uri": "https://localhost:8080/"
        },
        "id": "NKXfXGchFS5_",
        "outputId": "c8991970-2745-48c6-b512-5c243b9823b3"
      },
      "outputs": [
        {
          "output_type": "execute_result",
          "data": {
            "text/plain": [
              "(1, 0.9811287931181352)"
            ]
          },
          "metadata": {},
          "execution_count": 20
        }
      ],
      "source": [
        "predict_discrete(grid_cat, single_instance)"
      ]
    },
    {
      "cell_type": "code",
      "source": [
        "model_load = 'catboost_final_model.sav'\n",
        "pickle.dump(grid_cat, open(model_load, 'wb'))\n"
      ],
      "metadata": {
        "id": "Ksv3gEUAGYiP"
      },
      "execution_count": 23,
      "outputs": []
    },
    {
      "cell_type": "code",
      "source": [
        "loaded_model = pickle.load(open(model_load, 'rb'))"
      ],
      "metadata": {
        "id": "SMO1EbIwGgaR"
      },
      "execution_count": 24,
      "outputs": []
    },
    {
      "cell_type": "code",
      "source": [
        "predict_discrete(loaded_model, single_instance)"
      ],
      "metadata": {
        "colab": {
          "base_uri": "https://localhost:8080/"
        },
        "id": "d_eh0HqxHHuw",
        "outputId": "ee408766-345c-47fe-9c1b-87c47236faa7"
      },
      "execution_count": 25,
      "outputs": [
        {
          "output_type": "execute_result",
          "data": {
            "text/plain": [
              "(1, 0.9811287931181352)"
            ]
          },
          "metadata": {},
          "execution_count": 25
        }
      ]
    },
    {
      "cell_type": "code",
      "source": [
        ""
      ],
      "metadata": {
        "id": "eJaU6j0dHxIQ"
      },
      "execution_count": null,
      "outputs": []
    }
  ],
  "metadata": {
    "interpreter": {
      "hash": "153b441b79b186a170e66d39f3ac68da9dc112e187bf195c7a204943ec397faa"
    },
    "kernelspec": {
      "display_name": "Python 3.9.10 64-bit",
      "language": "python",
      "name": "python3"
    },
    "language_info": {
      "codemirror_mode": {
        "name": "ipython",
        "version": 3
      },
      "file_extension": ".py",
      "mimetype": "text/x-python",
      "name": "python",
      "nbconvert_exporter": "python",
      "pygments_lexer": "ipython3",
      "version": "3.9.10"
    },
    "orig_nbformat": 4,
    "colab": {
      "name": "catboost_grid_tune_synthetic_data.ipynb",
      "provenance": []
    }
  },
  "nbformat": 4,
  "nbformat_minor": 0
}