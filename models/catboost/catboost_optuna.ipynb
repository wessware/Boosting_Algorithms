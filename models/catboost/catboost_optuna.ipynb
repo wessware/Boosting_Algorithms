{
  "cells": [
    {
      "cell_type": "code",
      "source": [
        "pip install catboost"
      ],
      "metadata": {
        "id": "vp4IfItKQ3KI",
        "outputId": "c2b1a667-998b-4ecd-d659-b8caa2a85b75",
        "colab": {
          "base_uri": "https://localhost:8080/"
        }
      },
      "execution_count": 4,
      "outputs": [
        {
          "output_type": "stream",
          "name": "stdout",
          "text": [
            "Requirement already satisfied: catboost in /usr/local/lib/python3.7/dist-packages (1.0.5)\n",
            "Requirement already satisfied: scipy in /usr/local/lib/python3.7/dist-packages (from catboost) (1.4.1)\n",
            "Requirement already satisfied: plotly in /usr/local/lib/python3.7/dist-packages (from catboost) (5.5.0)\n",
            "Requirement already satisfied: numpy>=1.16.0 in /usr/local/lib/python3.7/dist-packages (from catboost) (1.21.6)\n",
            "Requirement already satisfied: matplotlib in /usr/local/lib/python3.7/dist-packages (from catboost) (3.2.2)\n",
            "Requirement already satisfied: graphviz in /usr/local/lib/python3.7/dist-packages (from catboost) (0.10.1)\n",
            "Requirement already satisfied: six in /usr/local/lib/python3.7/dist-packages (from catboost) (1.15.0)\n",
            "Requirement already satisfied: pandas>=0.24.0 in /usr/local/lib/python3.7/dist-packages (from catboost) (1.3.5)\n",
            "Requirement already satisfied: python-dateutil>=2.7.3 in /usr/local/lib/python3.7/dist-packages (from pandas>=0.24.0->catboost) (2.8.2)\n",
            "Requirement already satisfied: pytz>=2017.3 in /usr/local/lib/python3.7/dist-packages (from pandas>=0.24.0->catboost) (2022.1)\n",
            "Requirement already satisfied: cycler>=0.10 in /usr/local/lib/python3.7/dist-packages (from matplotlib->catboost) (0.11.0)\n",
            "Requirement already satisfied: kiwisolver>=1.0.1 in /usr/local/lib/python3.7/dist-packages (from matplotlib->catboost) (1.4.2)\n",
            "Requirement already satisfied: pyparsing!=2.0.4,!=2.1.2,!=2.1.6,>=2.0.1 in /usr/local/lib/python3.7/dist-packages (from matplotlib->catboost) (3.0.8)\n",
            "Requirement already satisfied: typing-extensions in /usr/local/lib/python3.7/dist-packages (from kiwisolver>=1.0.1->matplotlib->catboost) (4.2.0)\n",
            "Requirement already satisfied: tenacity>=6.2.0 in /usr/local/lib/python3.7/dist-packages (from plotly->catboost) (8.0.1)\n"
          ]
        }
      ]
    },
    {
      "cell_type": "code",
      "source": [
        "pip install optuna"
      ],
      "metadata": {
        "id": "sJKPTt7ZQ_A8",
        "outputId": "51b37248-3e7d-43c9-e2f8-07fc0b39923e",
        "colab": {
          "base_uri": "https://localhost:8080/"
        }
      },
      "execution_count": 5,
      "outputs": [
        {
          "output_type": "stream",
          "name": "stdout",
          "text": [
            "Requirement already satisfied: optuna in /usr/local/lib/python3.7/dist-packages (2.10.0)\n",
            "Requirement already satisfied: sqlalchemy>=1.1.0 in /usr/local/lib/python3.7/dist-packages (from optuna) (1.4.36)\n",
            "Requirement already satisfied: packaging>=20.0 in /usr/local/lib/python3.7/dist-packages (from optuna) (21.3)\n",
            "Requirement already satisfied: cmaes>=0.8.2 in /usr/local/lib/python3.7/dist-packages (from optuna) (0.8.2)\n",
            "Requirement already satisfied: numpy in /usr/local/lib/python3.7/dist-packages (from optuna) (1.21.6)\n",
            "Requirement already satisfied: tqdm in /usr/local/lib/python3.7/dist-packages (from optuna) (4.64.0)\n",
            "Requirement already satisfied: PyYAML in /usr/local/lib/python3.7/dist-packages (from optuna) (3.13)\n",
            "Requirement already satisfied: cliff in /usr/local/lib/python3.7/dist-packages (from optuna) (3.10.1)\n",
            "Requirement already satisfied: alembic in /usr/local/lib/python3.7/dist-packages (from optuna) (1.7.7)\n",
            "Requirement already satisfied: colorlog in /usr/local/lib/python3.7/dist-packages (from optuna) (6.6.0)\n",
            "Requirement already satisfied: scipy!=1.4.0 in /usr/local/lib/python3.7/dist-packages (from optuna) (1.4.1)\n",
            "Requirement already satisfied: pyparsing!=3.0.5,>=2.0.2 in /usr/local/lib/python3.7/dist-packages (from packaging>=20.0->optuna) (3.0.8)\n",
            "Requirement already satisfied: greenlet!=0.4.17 in /usr/local/lib/python3.7/dist-packages (from sqlalchemy>=1.1.0->optuna) (1.1.2)\n",
            "Requirement already satisfied: importlib-metadata in /usr/local/lib/python3.7/dist-packages (from sqlalchemy>=1.1.0->optuna) (4.11.3)\n",
            "Requirement already satisfied: importlib-resources in /usr/local/lib/python3.7/dist-packages (from alembic->optuna) (5.7.1)\n",
            "Requirement already satisfied: Mako in /usr/local/lib/python3.7/dist-packages (from alembic->optuna) (1.2.0)\n",
            "Requirement already satisfied: cmd2>=1.0.0 in /usr/local/lib/python3.7/dist-packages (from cliff->optuna) (2.4.1)\n",
            "Requirement already satisfied: PrettyTable>=0.7.2 in /usr/local/lib/python3.7/dist-packages (from cliff->optuna) (3.2.0)\n",
            "Requirement already satisfied: stevedore>=2.0.1 in /usr/local/lib/python3.7/dist-packages (from cliff->optuna) (3.5.0)\n",
            "Requirement already satisfied: pbr!=2.1.0,>=2.0.0 in /usr/local/lib/python3.7/dist-packages (from cliff->optuna) (5.9.0)\n",
            "Requirement already satisfied: autopage>=0.4.0 in /usr/local/lib/python3.7/dist-packages (from cliff->optuna) (0.5.0)\n",
            "Requirement already satisfied: wcwidth>=0.1.7 in /usr/local/lib/python3.7/dist-packages (from cmd2>=1.0.0->cliff->optuna) (0.2.5)\n",
            "Requirement already satisfied: pyperclip>=1.6 in /usr/local/lib/python3.7/dist-packages (from cmd2>=1.0.0->cliff->optuna) (1.8.2)\n",
            "Requirement already satisfied: attrs>=16.3.0 in /usr/local/lib/python3.7/dist-packages (from cmd2>=1.0.0->cliff->optuna) (21.4.0)\n",
            "Requirement already satisfied: typing-extensions in /usr/local/lib/python3.7/dist-packages (from cmd2>=1.0.0->cliff->optuna) (4.2.0)\n",
            "Requirement already satisfied: zipp>=0.5 in /usr/local/lib/python3.7/dist-packages (from importlib-metadata->sqlalchemy>=1.1.0->optuna) (3.8.0)\n",
            "Requirement already satisfied: MarkupSafe>=0.9.2 in /usr/local/lib/python3.7/dist-packages (from Mako->alembic->optuna) (2.0.1)\n"
          ]
        }
      ]
    },
    {
      "cell_type": "code",
      "execution_count": 6,
      "metadata": {
        "id": "M-qN1LK-QgRq"
      },
      "outputs": [],
      "source": [
        "import pandas as pd\n",
        "import numpy as np\n",
        "import catboost as cb\n",
        "import optuna\n",
        "import pickle\n",
        "\n",
        "from sklearn.model_selection import train_test_split\n",
        "from sklearn.metrics import accuracy_score\n",
        "from sklearn.metrics import mean_squared_error as mse"
      ]
    },
    {
      "cell_type": "code",
      "execution_count": 7,
      "metadata": {
        "id": "mELCz1CDQgRv"
      },
      "outputs": [],
      "source": [
        "df = pd.read_csv('/content/sample_data/synthesized_loan_data.csv')"
      ]
    },
    {
      "cell_type": "code",
      "execution_count": 8,
      "metadata": {
        "id": "9wt3_K5kQgRv",
        "outputId": "4b376901-8aeb-4dda-9307-71dcd24e3c05",
        "colab": {
          "base_uri": "https://localhost:8080/",
          "height": 270
        }
      },
      "outputs": [
        {
          "output_type": "execute_result",
          "data": {
            "text/plain": [
              "   Gender  Married  Dependents  Education  Self_Employed  ApplicantIncome  \\\n",
              "0       1        1    1.015491          0              0               60   \n",
              "1       1        1    2.793550          1              2              299   \n",
              "2       0        0    1.020575          0              1              497   \n",
              "3       1        1    0.967628          0              0               35   \n",
              "4       1        1    1.929354          0              0              340   \n",
              "\n",
              "   CoapplicantIncome  LoanAmount  Loan_Amount_Term  Credit_History  \\\n",
              "0        2263.426739  120.264574        362.034926        0.999618   \n",
              "1         207.078743   97.333547        185.855127        0.994450   \n",
              "2        -222.105153   98.957504        361.411489        0.999132   \n",
              "3        1874.200797  141.121981        360.427013        0.999273   \n",
              "4          47.080906  322.936778        360.013915        0.979882   \n",
              "\n",
              "   Property_Area  Loan_Status  \n",
              "0              2            1  \n",
              "1              1            1  \n",
              "2              0            1  \n",
              "3              2            1  \n",
              "4              0            1  "
            ],
            "text/html": [
              "\n",
              "  <div id=\"df-96509fc6-5480-4b28-a1f8-6f0b88c75854\">\n",
              "    <div class=\"colab-df-container\">\n",
              "      <div>\n",
              "<style scoped>\n",
              "    .dataframe tbody tr th:only-of-type {\n",
              "        vertical-align: middle;\n",
              "    }\n",
              "\n",
              "    .dataframe tbody tr th {\n",
              "        vertical-align: top;\n",
              "    }\n",
              "\n",
              "    .dataframe thead th {\n",
              "        text-align: right;\n",
              "    }\n",
              "</style>\n",
              "<table border=\"1\" class=\"dataframe\">\n",
              "  <thead>\n",
              "    <tr style=\"text-align: right;\">\n",
              "      <th></th>\n",
              "      <th>Gender</th>\n",
              "      <th>Married</th>\n",
              "      <th>Dependents</th>\n",
              "      <th>Education</th>\n",
              "      <th>Self_Employed</th>\n",
              "      <th>ApplicantIncome</th>\n",
              "      <th>CoapplicantIncome</th>\n",
              "      <th>LoanAmount</th>\n",
              "      <th>Loan_Amount_Term</th>\n",
              "      <th>Credit_History</th>\n",
              "      <th>Property_Area</th>\n",
              "      <th>Loan_Status</th>\n",
              "    </tr>\n",
              "  </thead>\n",
              "  <tbody>\n",
              "    <tr>\n",
              "      <th>0</th>\n",
              "      <td>1</td>\n",
              "      <td>1</td>\n",
              "      <td>1.015491</td>\n",
              "      <td>0</td>\n",
              "      <td>0</td>\n",
              "      <td>60</td>\n",
              "      <td>2263.426739</td>\n",
              "      <td>120.264574</td>\n",
              "      <td>362.034926</td>\n",
              "      <td>0.999618</td>\n",
              "      <td>2</td>\n",
              "      <td>1</td>\n",
              "    </tr>\n",
              "    <tr>\n",
              "      <th>1</th>\n",
              "      <td>1</td>\n",
              "      <td>1</td>\n",
              "      <td>2.793550</td>\n",
              "      <td>1</td>\n",
              "      <td>2</td>\n",
              "      <td>299</td>\n",
              "      <td>207.078743</td>\n",
              "      <td>97.333547</td>\n",
              "      <td>185.855127</td>\n",
              "      <td>0.994450</td>\n",
              "      <td>1</td>\n",
              "      <td>1</td>\n",
              "    </tr>\n",
              "    <tr>\n",
              "      <th>2</th>\n",
              "      <td>0</td>\n",
              "      <td>0</td>\n",
              "      <td>1.020575</td>\n",
              "      <td>0</td>\n",
              "      <td>1</td>\n",
              "      <td>497</td>\n",
              "      <td>-222.105153</td>\n",
              "      <td>98.957504</td>\n",
              "      <td>361.411489</td>\n",
              "      <td>0.999132</td>\n",
              "      <td>0</td>\n",
              "      <td>1</td>\n",
              "    </tr>\n",
              "    <tr>\n",
              "      <th>3</th>\n",
              "      <td>1</td>\n",
              "      <td>1</td>\n",
              "      <td>0.967628</td>\n",
              "      <td>0</td>\n",
              "      <td>0</td>\n",
              "      <td>35</td>\n",
              "      <td>1874.200797</td>\n",
              "      <td>141.121981</td>\n",
              "      <td>360.427013</td>\n",
              "      <td>0.999273</td>\n",
              "      <td>2</td>\n",
              "      <td>1</td>\n",
              "    </tr>\n",
              "    <tr>\n",
              "      <th>4</th>\n",
              "      <td>1</td>\n",
              "      <td>1</td>\n",
              "      <td>1.929354</td>\n",
              "      <td>0</td>\n",
              "      <td>0</td>\n",
              "      <td>340</td>\n",
              "      <td>47.080906</td>\n",
              "      <td>322.936778</td>\n",
              "      <td>360.013915</td>\n",
              "      <td>0.979882</td>\n",
              "      <td>0</td>\n",
              "      <td>1</td>\n",
              "    </tr>\n",
              "  </tbody>\n",
              "</table>\n",
              "</div>\n",
              "      <button class=\"colab-df-convert\" onclick=\"convertToInteractive('df-96509fc6-5480-4b28-a1f8-6f0b88c75854')\"\n",
              "              title=\"Convert this dataframe to an interactive table.\"\n",
              "              style=\"display:none;\">\n",
              "        \n",
              "  <svg xmlns=\"http://www.w3.org/2000/svg\" height=\"24px\"viewBox=\"0 0 24 24\"\n",
              "       width=\"24px\">\n",
              "    <path d=\"M0 0h24v24H0V0z\" fill=\"none\"/>\n",
              "    <path d=\"M18.56 5.44l.94 2.06.94-2.06 2.06-.94-2.06-.94-.94-2.06-.94 2.06-2.06.94zm-11 1L8.5 8.5l.94-2.06 2.06-.94-2.06-.94L8.5 2.5l-.94 2.06-2.06.94zm10 10l.94 2.06.94-2.06 2.06-.94-2.06-.94-.94-2.06-.94 2.06-2.06.94z\"/><path d=\"M17.41 7.96l-1.37-1.37c-.4-.4-.92-.59-1.43-.59-.52 0-1.04.2-1.43.59L10.3 9.45l-7.72 7.72c-.78.78-.78 2.05 0 2.83L4 21.41c.39.39.9.59 1.41.59.51 0 1.02-.2 1.41-.59l7.78-7.78 2.81-2.81c.8-.78.8-2.07 0-2.86zM5.41 20L4 18.59l7.72-7.72 1.47 1.35L5.41 20z\"/>\n",
              "  </svg>\n",
              "      </button>\n",
              "      \n",
              "  <style>\n",
              "    .colab-df-container {\n",
              "      display:flex;\n",
              "      flex-wrap:wrap;\n",
              "      gap: 12px;\n",
              "    }\n",
              "\n",
              "    .colab-df-convert {\n",
              "      background-color: #E8F0FE;\n",
              "      border: none;\n",
              "      border-radius: 50%;\n",
              "      cursor: pointer;\n",
              "      display: none;\n",
              "      fill: #1967D2;\n",
              "      height: 32px;\n",
              "      padding: 0 0 0 0;\n",
              "      width: 32px;\n",
              "    }\n",
              "\n",
              "    .colab-df-convert:hover {\n",
              "      background-color: #E2EBFA;\n",
              "      box-shadow: 0px 1px 2px rgba(60, 64, 67, 0.3), 0px 1px 3px 1px rgba(60, 64, 67, 0.15);\n",
              "      fill: #174EA6;\n",
              "    }\n",
              "\n",
              "    [theme=dark] .colab-df-convert {\n",
              "      background-color: #3B4455;\n",
              "      fill: #D2E3FC;\n",
              "    }\n",
              "\n",
              "    [theme=dark] .colab-df-convert:hover {\n",
              "      background-color: #434B5C;\n",
              "      box-shadow: 0px 1px 3px 1px rgba(0, 0, 0, 0.15);\n",
              "      filter: drop-shadow(0px 1px 2px rgba(0, 0, 0, 0.3));\n",
              "      fill: #FFFFFF;\n",
              "    }\n",
              "  </style>\n",
              "\n",
              "      <script>\n",
              "        const buttonEl =\n",
              "          document.querySelector('#df-96509fc6-5480-4b28-a1f8-6f0b88c75854 button.colab-df-convert');\n",
              "        buttonEl.style.display =\n",
              "          google.colab.kernel.accessAllowed ? 'block' : 'none';\n",
              "\n",
              "        async function convertToInteractive(key) {\n",
              "          const element = document.querySelector('#df-96509fc6-5480-4b28-a1f8-6f0b88c75854');\n",
              "          const dataTable =\n",
              "            await google.colab.kernel.invokeFunction('convertToInteractive',\n",
              "                                                     [key], {});\n",
              "          if (!dataTable) return;\n",
              "\n",
              "          const docLinkHtml = 'Like what you see? Visit the ' +\n",
              "            '<a target=\"_blank\" href=https://colab.research.google.com/notebooks/data_table.ipynb>data table notebook</a>'\n",
              "            + ' to learn more about interactive tables.';\n",
              "          element.innerHTML = '';\n",
              "          dataTable['output_type'] = 'display_data';\n",
              "          await google.colab.output.renderOutput(dataTable, element);\n",
              "          const docLink = document.createElement('div');\n",
              "          docLink.innerHTML = docLinkHtml;\n",
              "          element.appendChild(docLink);\n",
              "        }\n",
              "      </script>\n",
              "    </div>\n",
              "  </div>\n",
              "  "
            ]
          },
          "metadata": {},
          "execution_count": 8
        }
      ],
      "source": [
        "df.head()"
      ]
    },
    {
      "cell_type": "code",
      "execution_count": 9,
      "metadata": {
        "id": "34yPWfvKQgRx",
        "outputId": "8fff3450-64fc-47d5-bb23-293eec20092c",
        "colab": {
          "base_uri": "https://localhost:8080/"
        }
      },
      "outputs": [
        {
          "output_type": "execute_result",
          "data": {
            "text/plain": [
              "Index(['Gender', 'Married', 'Dependents', 'Education', 'Self_Employed',\n",
              "       'ApplicantIncome', 'CoapplicantIncome', 'LoanAmount',\n",
              "       'Loan_Amount_Term', 'Credit_History', 'Property_Area', 'Loan_Status'],\n",
              "      dtype='object')"
            ]
          },
          "metadata": {},
          "execution_count": 9
        }
      ],
      "source": [
        "df.columns"
      ]
    },
    {
      "cell_type": "code",
      "execution_count": 10,
      "metadata": {
        "id": "HRW9yupaQgRy"
      },
      "outputs": [],
      "source": [
        "x = df.drop(columns=['Loan_Status'])\n",
        "y = df['Loan_Status']"
      ]
    },
    {
      "cell_type": "code",
      "execution_count": 11,
      "metadata": {
        "id": "awWaoAZUQgR0",
        "outputId": "3f288116-ae1c-4e1c-a72a-3ad20bc22a09",
        "colab": {
          "base_uri": "https://localhost:8080/",
          "height": 488
        }
      },
      "outputs": [
        {
          "output_type": "execute_result",
          "data": {
            "text/plain": [
              "      Gender  Married  Dependents  Education  Self_Employed  ApplicantIncome  \\\n",
              "0          1        1    1.015491          0              0               60   \n",
              "1          1        1    2.793550          1              2              299   \n",
              "2          0        0    1.020575          0              1              497   \n",
              "3          1        1    0.967628          0              0               35   \n",
              "4          1        1    1.929354          0              0              340   \n",
              "...      ...      ...         ...        ...            ...              ...   \n",
              "3995       1        1    2.118012          0              0              248   \n",
              "3996       0        0   -0.002574          0              0              249   \n",
              "3997       1        1    0.010152          0              0              300   \n",
              "3998       0        1   -0.002625          0              0              385   \n",
              "3999       1        1    0.007271          0              0              462   \n",
              "\n",
              "      CoapplicantIncome  LoanAmount  Loan_Amount_Term  Credit_History  \\\n",
              "0           2263.426739  120.264574        362.034926        0.999618   \n",
              "1            207.078743   97.333547        185.855127        0.994450   \n",
              "2           -222.105153   98.957504        361.411489        0.999132   \n",
              "3           1874.200797  141.121981        360.427013        0.999273   \n",
              "4             47.080906  322.936778        360.013915        0.979882   \n",
              "...                 ...         ...               ...             ...   \n",
              "3995        2693.049737  176.172212        360.665439        1.007047   \n",
              "3996        1949.728061  117.277610        361.044262        0.986177   \n",
              "3997        2882.202092  136.098872        361.722296        0.994603   \n",
              "3998         182.631094  191.733185        360.723093        0.989029   \n",
              "3999        2590.286571  119.756303        360.276315        0.997789   \n",
              "\n",
              "      Property_Area  \n",
              "0                 2  \n",
              "1                 1  \n",
              "2                 0  \n",
              "3                 2  \n",
              "4                 0  \n",
              "...             ...  \n",
              "3995              1  \n",
              "3996              1  \n",
              "3997              0  \n",
              "3998              1  \n",
              "3999              1  \n",
              "\n",
              "[4000 rows x 11 columns]"
            ],
            "text/html": [
              "\n",
              "  <div id=\"df-f7ab905d-716c-4e3b-a56b-d79344022a9d\">\n",
              "    <div class=\"colab-df-container\">\n",
              "      <div>\n",
              "<style scoped>\n",
              "    .dataframe tbody tr th:only-of-type {\n",
              "        vertical-align: middle;\n",
              "    }\n",
              "\n",
              "    .dataframe tbody tr th {\n",
              "        vertical-align: top;\n",
              "    }\n",
              "\n",
              "    .dataframe thead th {\n",
              "        text-align: right;\n",
              "    }\n",
              "</style>\n",
              "<table border=\"1\" class=\"dataframe\">\n",
              "  <thead>\n",
              "    <tr style=\"text-align: right;\">\n",
              "      <th></th>\n",
              "      <th>Gender</th>\n",
              "      <th>Married</th>\n",
              "      <th>Dependents</th>\n",
              "      <th>Education</th>\n",
              "      <th>Self_Employed</th>\n",
              "      <th>ApplicantIncome</th>\n",
              "      <th>CoapplicantIncome</th>\n",
              "      <th>LoanAmount</th>\n",
              "      <th>Loan_Amount_Term</th>\n",
              "      <th>Credit_History</th>\n",
              "      <th>Property_Area</th>\n",
              "    </tr>\n",
              "  </thead>\n",
              "  <tbody>\n",
              "    <tr>\n",
              "      <th>0</th>\n",
              "      <td>1</td>\n",
              "      <td>1</td>\n",
              "      <td>1.015491</td>\n",
              "      <td>0</td>\n",
              "      <td>0</td>\n",
              "      <td>60</td>\n",
              "      <td>2263.426739</td>\n",
              "      <td>120.264574</td>\n",
              "      <td>362.034926</td>\n",
              "      <td>0.999618</td>\n",
              "      <td>2</td>\n",
              "    </tr>\n",
              "    <tr>\n",
              "      <th>1</th>\n",
              "      <td>1</td>\n",
              "      <td>1</td>\n",
              "      <td>2.793550</td>\n",
              "      <td>1</td>\n",
              "      <td>2</td>\n",
              "      <td>299</td>\n",
              "      <td>207.078743</td>\n",
              "      <td>97.333547</td>\n",
              "      <td>185.855127</td>\n",
              "      <td>0.994450</td>\n",
              "      <td>1</td>\n",
              "    </tr>\n",
              "    <tr>\n",
              "      <th>2</th>\n",
              "      <td>0</td>\n",
              "      <td>0</td>\n",
              "      <td>1.020575</td>\n",
              "      <td>0</td>\n",
              "      <td>1</td>\n",
              "      <td>497</td>\n",
              "      <td>-222.105153</td>\n",
              "      <td>98.957504</td>\n",
              "      <td>361.411489</td>\n",
              "      <td>0.999132</td>\n",
              "      <td>0</td>\n",
              "    </tr>\n",
              "    <tr>\n",
              "      <th>3</th>\n",
              "      <td>1</td>\n",
              "      <td>1</td>\n",
              "      <td>0.967628</td>\n",
              "      <td>0</td>\n",
              "      <td>0</td>\n",
              "      <td>35</td>\n",
              "      <td>1874.200797</td>\n",
              "      <td>141.121981</td>\n",
              "      <td>360.427013</td>\n",
              "      <td>0.999273</td>\n",
              "      <td>2</td>\n",
              "    </tr>\n",
              "    <tr>\n",
              "      <th>4</th>\n",
              "      <td>1</td>\n",
              "      <td>1</td>\n",
              "      <td>1.929354</td>\n",
              "      <td>0</td>\n",
              "      <td>0</td>\n",
              "      <td>340</td>\n",
              "      <td>47.080906</td>\n",
              "      <td>322.936778</td>\n",
              "      <td>360.013915</td>\n",
              "      <td>0.979882</td>\n",
              "      <td>0</td>\n",
              "    </tr>\n",
              "    <tr>\n",
              "      <th>...</th>\n",
              "      <td>...</td>\n",
              "      <td>...</td>\n",
              "      <td>...</td>\n",
              "      <td>...</td>\n",
              "      <td>...</td>\n",
              "      <td>...</td>\n",
              "      <td>...</td>\n",
              "      <td>...</td>\n",
              "      <td>...</td>\n",
              "      <td>...</td>\n",
              "      <td>...</td>\n",
              "    </tr>\n",
              "    <tr>\n",
              "      <th>3995</th>\n",
              "      <td>1</td>\n",
              "      <td>1</td>\n",
              "      <td>2.118012</td>\n",
              "      <td>0</td>\n",
              "      <td>0</td>\n",
              "      <td>248</td>\n",
              "      <td>2693.049737</td>\n",
              "      <td>176.172212</td>\n",
              "      <td>360.665439</td>\n",
              "      <td>1.007047</td>\n",
              "      <td>1</td>\n",
              "    </tr>\n",
              "    <tr>\n",
              "      <th>3996</th>\n",
              "      <td>0</td>\n",
              "      <td>0</td>\n",
              "      <td>-0.002574</td>\n",
              "      <td>0</td>\n",
              "      <td>0</td>\n",
              "      <td>249</td>\n",
              "      <td>1949.728061</td>\n",
              "      <td>117.277610</td>\n",
              "      <td>361.044262</td>\n",
              "      <td>0.986177</td>\n",
              "      <td>1</td>\n",
              "    </tr>\n",
              "    <tr>\n",
              "      <th>3997</th>\n",
              "      <td>1</td>\n",
              "      <td>1</td>\n",
              "      <td>0.010152</td>\n",
              "      <td>0</td>\n",
              "      <td>0</td>\n",
              "      <td>300</td>\n",
              "      <td>2882.202092</td>\n",
              "      <td>136.098872</td>\n",
              "      <td>361.722296</td>\n",
              "      <td>0.994603</td>\n",
              "      <td>0</td>\n",
              "    </tr>\n",
              "    <tr>\n",
              "      <th>3998</th>\n",
              "      <td>0</td>\n",
              "      <td>1</td>\n",
              "      <td>-0.002625</td>\n",
              "      <td>0</td>\n",
              "      <td>0</td>\n",
              "      <td>385</td>\n",
              "      <td>182.631094</td>\n",
              "      <td>191.733185</td>\n",
              "      <td>360.723093</td>\n",
              "      <td>0.989029</td>\n",
              "      <td>1</td>\n",
              "    </tr>\n",
              "    <tr>\n",
              "      <th>3999</th>\n",
              "      <td>1</td>\n",
              "      <td>1</td>\n",
              "      <td>0.007271</td>\n",
              "      <td>0</td>\n",
              "      <td>0</td>\n",
              "      <td>462</td>\n",
              "      <td>2590.286571</td>\n",
              "      <td>119.756303</td>\n",
              "      <td>360.276315</td>\n",
              "      <td>0.997789</td>\n",
              "      <td>1</td>\n",
              "    </tr>\n",
              "  </tbody>\n",
              "</table>\n",
              "<p>4000 rows × 11 columns</p>\n",
              "</div>\n",
              "      <button class=\"colab-df-convert\" onclick=\"convertToInteractive('df-f7ab905d-716c-4e3b-a56b-d79344022a9d')\"\n",
              "              title=\"Convert this dataframe to an interactive table.\"\n",
              "              style=\"display:none;\">\n",
              "        \n",
              "  <svg xmlns=\"http://www.w3.org/2000/svg\" height=\"24px\"viewBox=\"0 0 24 24\"\n",
              "       width=\"24px\">\n",
              "    <path d=\"M0 0h24v24H0V0z\" fill=\"none\"/>\n",
              "    <path d=\"M18.56 5.44l.94 2.06.94-2.06 2.06-.94-2.06-.94-.94-2.06-.94 2.06-2.06.94zm-11 1L8.5 8.5l.94-2.06 2.06-.94-2.06-.94L8.5 2.5l-.94 2.06-2.06.94zm10 10l.94 2.06.94-2.06 2.06-.94-2.06-.94-.94-2.06-.94 2.06-2.06.94z\"/><path d=\"M17.41 7.96l-1.37-1.37c-.4-.4-.92-.59-1.43-.59-.52 0-1.04.2-1.43.59L10.3 9.45l-7.72 7.72c-.78.78-.78 2.05 0 2.83L4 21.41c.39.39.9.59 1.41.59.51 0 1.02-.2 1.41-.59l7.78-7.78 2.81-2.81c.8-.78.8-2.07 0-2.86zM5.41 20L4 18.59l7.72-7.72 1.47 1.35L5.41 20z\"/>\n",
              "  </svg>\n",
              "      </button>\n",
              "      \n",
              "  <style>\n",
              "    .colab-df-container {\n",
              "      display:flex;\n",
              "      flex-wrap:wrap;\n",
              "      gap: 12px;\n",
              "    }\n",
              "\n",
              "    .colab-df-convert {\n",
              "      background-color: #E8F0FE;\n",
              "      border: none;\n",
              "      border-radius: 50%;\n",
              "      cursor: pointer;\n",
              "      display: none;\n",
              "      fill: #1967D2;\n",
              "      height: 32px;\n",
              "      padding: 0 0 0 0;\n",
              "      width: 32px;\n",
              "    }\n",
              "\n",
              "    .colab-df-convert:hover {\n",
              "      background-color: #E2EBFA;\n",
              "      box-shadow: 0px 1px 2px rgba(60, 64, 67, 0.3), 0px 1px 3px 1px rgba(60, 64, 67, 0.15);\n",
              "      fill: #174EA6;\n",
              "    }\n",
              "\n",
              "    [theme=dark] .colab-df-convert {\n",
              "      background-color: #3B4455;\n",
              "      fill: #D2E3FC;\n",
              "    }\n",
              "\n",
              "    [theme=dark] .colab-df-convert:hover {\n",
              "      background-color: #434B5C;\n",
              "      box-shadow: 0px 1px 3px 1px rgba(0, 0, 0, 0.15);\n",
              "      filter: drop-shadow(0px 1px 2px rgba(0, 0, 0, 0.3));\n",
              "      fill: #FFFFFF;\n",
              "    }\n",
              "  </style>\n",
              "\n",
              "      <script>\n",
              "        const buttonEl =\n",
              "          document.querySelector('#df-f7ab905d-716c-4e3b-a56b-d79344022a9d button.colab-df-convert');\n",
              "        buttonEl.style.display =\n",
              "          google.colab.kernel.accessAllowed ? 'block' : 'none';\n",
              "\n",
              "        async function convertToInteractive(key) {\n",
              "          const element = document.querySelector('#df-f7ab905d-716c-4e3b-a56b-d79344022a9d');\n",
              "          const dataTable =\n",
              "            await google.colab.kernel.invokeFunction('convertToInteractive',\n",
              "                                                     [key], {});\n",
              "          if (!dataTable) return;\n",
              "\n",
              "          const docLinkHtml = 'Like what you see? Visit the ' +\n",
              "            '<a target=\"_blank\" href=https://colab.research.google.com/notebooks/data_table.ipynb>data table notebook</a>'\n",
              "            + ' to learn more about interactive tables.';\n",
              "          element.innerHTML = '';\n",
              "          dataTable['output_type'] = 'display_data';\n",
              "          await google.colab.output.renderOutput(dataTable, element);\n",
              "          const docLink = document.createElement('div');\n",
              "          docLink.innerHTML = docLinkHtml;\n",
              "          element.appendChild(docLink);\n",
              "        }\n",
              "      </script>\n",
              "    </div>\n",
              "  </div>\n",
              "  "
            ]
          },
          "metadata": {},
          "execution_count": 11
        }
      ],
      "source": [
        "x"
      ]
    },
    {
      "cell_type": "code",
      "execution_count": 12,
      "metadata": {
        "id": "h8CnHpy3QgR0",
        "outputId": "d114bafc-97fb-4f5b-f667-934abb15f4db",
        "colab": {
          "base_uri": "https://localhost:8080/"
        }
      },
      "outputs": [
        {
          "output_type": "execute_result",
          "data": {
            "text/plain": [
              "0       1\n",
              "1       1\n",
              "2       1\n",
              "3       1\n",
              "4       1\n",
              "       ..\n",
              "3995    1\n",
              "3996    1\n",
              "3997    1\n",
              "3998    0\n",
              "3999    1\n",
              "Name: Loan_Status, Length: 4000, dtype: int64"
            ]
          },
          "metadata": {},
          "execution_count": 12
        }
      ],
      "source": [
        "y"
      ]
    },
    {
      "cell_type": "code",
      "execution_count": 13,
      "metadata": {
        "id": "X-Oe_1cFQgR1"
      },
      "outputs": [],
      "source": [
        "def objective(trial):\n",
        "    x_train, x_validate, y_train, y_validate = train_test_split(x, y, test_size=0.3)\n",
        "    \n",
        "    param = {\n",
        "        'objective': trial.suggest_categorical('objective', ['Logloss', 'CrossEntropy']),\n",
        "        'colsample_bylevel': trial.suggest_float('colsample_bylevel', 0.01, 0.1),\n",
        "        'depth' : trial.suggest_int('depth', 1, 12),\n",
        "        'boosting_type' : trial.suggest_categorical('boosting_type', ['Ordered', 'Plain']),\n",
        "        'bootstrap_type' : trial.suggest_categorical('bootstrap_type', ['Bayesian', 'Bernoulli', 'MVS']),\n",
        "        'used_ram_limit' : '3gb',\n",
        "    }\n",
        "    \n",
        "    if param['bootstrap_type'] == 'Bayesian': param['bagging_temperature'] = trial.suggest_float('bagging_temperature', 0, 10)\n",
        "    \n",
        "    elif param['bootstrap_type'] == 'Bernoulli' : param['subsample'] = trial.suggest_float('subsample', 0.1, 1)\n",
        "    \n",
        "    gbm = cb.CatBoostClassifier(**param)\n",
        "    \n",
        "    gbm.fit(x_train, y_train, eval_set=[(x_validate, y_validate)], verbose=0, early_stopping_rounds=100)\n",
        "    \n",
        "    preds = gbm.predict(x_validate)\n",
        "    pred_labels = np.rint(preds)\n",
        "    accuracy = accuracy_score(y_validate, pred_labels)\n",
        "    \n",
        "    return accuracy"
      ]
    },
    {
      "cell_type": "code",
      "execution_count": 14,
      "metadata": {
        "id": "Fi1JDXDAQgR3",
        "outputId": "6edc5b77-9d6b-450a-fff3-bf92f190be79",
        "colab": {
          "base_uri": "https://localhost:8080/"
        }
      },
      "outputs": [
        {
          "output_type": "stream",
          "name": "stderr",
          "text": [
            "\u001b[32m[I 2022-05-09 10:10:05,419]\u001b[0m A new study created in memory with name: no-name-88f6238e-d407-4434-b065-24022db9df97\u001b[0m\n",
            "\u001b[32m[I 2022-05-09 10:10:06,560]\u001b[0m Trial 0 finished with value: 0.9275 and parameters: {'objective': 'Logloss', 'colsample_bylevel': 0.07452014983755605, 'depth': 9, 'boosting_type': 'Plain', 'bootstrap_type': 'Bayesian', 'bagging_temperature': 1.9147295344612902}. Best is trial 0 with value: 0.9275.\u001b[0m\n",
            "\u001b[32m[I 2022-05-09 10:10:07,380]\u001b[0m Trial 1 finished with value: 0.9066666666666666 and parameters: {'objective': 'Logloss', 'colsample_bylevel': 0.02083108503874114, 'depth': 9, 'boosting_type': 'Plain', 'bootstrap_type': 'MVS'}. Best is trial 0 with value: 0.9275.\u001b[0m\n",
            "\u001b[32m[I 2022-05-09 10:10:08,185]\u001b[0m Trial 2 finished with value: 0.92 and parameters: {'objective': 'CrossEntropy', 'colsample_bylevel': 0.06109782248623011, 'depth': 9, 'boosting_type': 'Plain', 'bootstrap_type': 'Bernoulli', 'subsample': 0.9178478242359547}. Best is trial 0 with value: 0.9275.\u001b[0m\n",
            "\u001b[32m[I 2022-05-09 10:10:10,700]\u001b[0m Trial 3 finished with value: 0.8983333333333333 and parameters: {'objective': 'CrossEntropy', 'colsample_bylevel': 0.018205511688242044, 'depth': 2, 'boosting_type': 'Ordered', 'bootstrap_type': 'Bernoulli', 'subsample': 0.792862604795245}. Best is trial 0 with value: 0.9275.\u001b[0m\n",
            "\u001b[32m[I 2022-05-09 10:10:15,997]\u001b[0m Trial 4 finished with value: 0.9183333333333333 and parameters: {'objective': 'Logloss', 'colsample_bylevel': 0.0784956055411285, 'depth': 3, 'boosting_type': 'Ordered', 'bootstrap_type': 'Bayesian', 'bagging_temperature': 5.546908623319931}. Best is trial 0 with value: 0.9275.\u001b[0m\n",
            "\u001b[32m[I 2022-05-09 10:10:23,137]\u001b[0m Trial 5 finished with value: 0.925 and parameters: {'objective': 'Logloss', 'colsample_bylevel': 0.09409473158600257, 'depth': 1, 'boosting_type': 'Ordered', 'bootstrap_type': 'MVS'}. Best is trial 0 with value: 0.9275.\u001b[0m\n",
            "\u001b[32m[I 2022-05-09 10:10:30,681]\u001b[0m Trial 6 finished with value: 0.9108333333333334 and parameters: {'objective': 'CrossEntropy', 'colsample_bylevel': 0.057894987429017705, 'depth': 8, 'boosting_type': 'Ordered', 'bootstrap_type': 'Bernoulli', 'subsample': 0.4146889294461156}. Best is trial 0 with value: 0.9275.\u001b[0m\n",
            "\u001b[32m[I 2022-05-09 10:10:32,324]\u001b[0m Trial 7 finished with value: 0.9125 and parameters: {'objective': 'CrossEntropy', 'colsample_bylevel': 0.04340169378066732, 'depth': 3, 'boosting_type': 'Plain', 'bootstrap_type': 'MVS'}. Best is trial 0 with value: 0.9275.\u001b[0m\n",
            "\u001b[32m[I 2022-05-09 10:10:34,375]\u001b[0m Trial 8 finished with value: 0.9258333333333333 and parameters: {'objective': 'Logloss', 'colsample_bylevel': 0.09152056191249071, 'depth': 1, 'boosting_type': 'Plain', 'bootstrap_type': 'Bernoulli', 'subsample': 0.46772083853561675}. Best is trial 0 with value: 0.9275.\u001b[0m\n",
            "\u001b[32m[I 2022-05-09 10:10:37,870]\u001b[0m Trial 9 finished with value: 0.915 and parameters: {'objective': 'Logloss', 'colsample_bylevel': 0.054854207760984604, 'depth': 10, 'boosting_type': 'Ordered', 'bootstrap_type': 'MVS'}. Best is trial 0 with value: 0.9275.\u001b[0m\n",
            "\u001b[32m[I 2022-05-09 10:10:38,750]\u001b[0m Trial 10 finished with value: 0.92 and parameters: {'objective': 'Logloss', 'colsample_bylevel': 0.07558333675037883, 'depth': 12, 'boosting_type': 'Plain', 'bootstrap_type': 'Bayesian', 'bagging_temperature': 0.4525316039877294}. Best is trial 0 with value: 0.9275.\u001b[0m\n",
            "\u001b[32m[I 2022-05-09 10:10:39,429]\u001b[0m Trial 11 finished with value: 0.9158333333333334 and parameters: {'objective': 'Logloss', 'colsample_bylevel': 0.09728633181717888, 'depth': 5, 'boosting_type': 'Plain', 'bootstrap_type': 'Bayesian', 'bagging_temperature': 0.6539176605950301}. Best is trial 0 with value: 0.9275.\u001b[0m\n",
            "\u001b[32m[I 2022-05-09 10:10:40,282]\u001b[0m Trial 12 finished with value: 0.9116666666666666 and parameters: {'objective': 'Logloss', 'colsample_bylevel': 0.08363457516198393, 'depth': 6, 'boosting_type': 'Plain', 'bootstrap_type': 'Bernoulli', 'subsample': 0.15480733914448042}. Best is trial 0 with value: 0.9275.\u001b[0m\n",
            "\u001b[32m[I 2022-05-09 10:10:41,118]\u001b[0m Trial 13 finished with value: 0.9208333333333333 and parameters: {'objective': 'Logloss', 'colsample_bylevel': 0.0695416222971374, 'depth': 5, 'boosting_type': 'Plain', 'bootstrap_type': 'Bayesian', 'bagging_temperature': 9.869383042864465}. Best is trial 0 with value: 0.9275.\u001b[0m\n",
            "\u001b[32m[I 2022-05-09 10:10:42,062]\u001b[0m Trial 14 finished with value: 0.9216666666666666 and parameters: {'objective': 'Logloss', 'colsample_bylevel': 0.08794483086720153, 'depth': 11, 'boosting_type': 'Plain', 'bootstrap_type': 'Bayesian', 'bagging_temperature': 3.9533590677382975}. Best is trial 0 with value: 0.9275.\u001b[0m\n",
            "\u001b[32m[I 2022-05-09 10:10:42,771]\u001b[0m Trial 15 finished with value: 0.9208333333333333 and parameters: {'objective': 'Logloss', 'colsample_bylevel': 0.03981182548867127, 'depth': 8, 'boosting_type': 'Plain', 'bootstrap_type': 'Bernoulli', 'subsample': 0.4595121659232397}. Best is trial 0 with value: 0.9275.\u001b[0m\n",
            "\u001b[32m[I 2022-05-09 10:10:43,567]\u001b[0m Trial 16 finished with value: 0.9316666666666666 and parameters: {'objective': 'Logloss', 'colsample_bylevel': 0.07240320365891692, 'depth': 7, 'boosting_type': 'Plain', 'bootstrap_type': 'Bernoulli', 'subsample': 0.6696141809420055}. Best is trial 16 with value: 0.9316666666666666.\u001b[0m\n",
            "\u001b[32m[I 2022-05-09 10:10:44,427]\u001b[0m Trial 17 finished with value: 0.9166666666666666 and parameters: {'objective': 'Logloss', 'colsample_bylevel': 0.06742416807851168, 'depth': 7, 'boosting_type': 'Plain', 'bootstrap_type': 'Bayesian', 'bagging_temperature': 3.702228290388552}. Best is trial 16 with value: 0.9316666666666666.\u001b[0m\n",
            "\u001b[32m[I 2022-05-09 10:10:45,197]\u001b[0m Trial 18 finished with value: 0.9191666666666667 and parameters: {'objective': 'CrossEntropy', 'colsample_bylevel': 0.04939414387791825, 'depth': 6, 'boosting_type': 'Plain', 'bootstrap_type': 'Bayesian', 'bagging_temperature': 7.108598296242069}. Best is trial 16 with value: 0.9316666666666666.\u001b[0m\n",
            "\u001b[32m[I 2022-05-09 10:10:45,904]\u001b[0m Trial 19 finished with value: 0.9225 and parameters: {'objective': 'Logloss', 'colsample_bylevel': 0.06996171479633068, 'depth': 10, 'boosting_type': 'Plain', 'bootstrap_type': 'Bernoulli', 'subsample': 0.7212820995551994}. Best is trial 16 with value: 0.9316666666666666.\u001b[0m\n",
            "\u001b[32m[I 2022-05-09 10:10:46,633]\u001b[0m Trial 20 finished with value: 0.9216666666666666 and parameters: {'objective': 'Logloss', 'colsample_bylevel': 0.036074147560732586, 'depth': 12, 'boosting_type': 'Plain', 'bootstrap_type': 'Bayesian', 'bagging_temperature': 2.542489128615}. Best is trial 16 with value: 0.9316666666666666.\u001b[0m\n",
            "\u001b[32m[I 2022-05-09 10:10:47,466]\u001b[0m Trial 21 finished with value: 0.9241666666666667 and parameters: {'objective': 'Logloss', 'colsample_bylevel': 0.08771654956916174, 'depth': 4, 'boosting_type': 'Plain', 'bootstrap_type': 'Bernoulli', 'subsample': 0.5932611450981472}. Best is trial 16 with value: 0.9316666666666666.\u001b[0m\n",
            "\u001b[32m[I 2022-05-09 10:10:48,281]\u001b[0m Trial 22 finished with value: 0.9141666666666667 and parameters: {'objective': 'Logloss', 'colsample_bylevel': 0.07796653693564795, 'depth': 7, 'boosting_type': 'Plain', 'bootstrap_type': 'Bernoulli', 'subsample': 0.3186836406481054}. Best is trial 16 with value: 0.9316666666666666.\u001b[0m\n",
            "\u001b[32m[I 2022-05-09 10:10:49,204]\u001b[0m Trial 23 finished with value: 0.9216666666666666 and parameters: {'objective': 'Logloss', 'colsample_bylevel': 0.09908398541894159, 'depth': 8, 'boosting_type': 'Plain', 'bootstrap_type': 'Bernoulli', 'subsample': 0.6371553938393824}. Best is trial 16 with value: 0.9316666666666666.\u001b[0m\n",
            "\u001b[32m[I 2022-05-09 10:10:49,899]\u001b[0m Trial 24 finished with value: 0.9191666666666667 and parameters: {'objective': 'Logloss', 'colsample_bylevel': 0.08828870491412794, 'depth': 1, 'boosting_type': 'Plain', 'bootstrap_type': 'Bernoulli', 'subsample': 0.3018391087126132}. Best is trial 16 with value: 0.9316666666666666.\u001b[0m\n",
            "\u001b[32m[I 2022-05-09 10:10:50,666]\u001b[0m Trial 25 finished with value: 0.9158333333333334 and parameters: {'objective': 'Logloss', 'colsample_bylevel': 0.0640455043633695, 'depth': 5, 'boosting_type': 'Plain', 'bootstrap_type': 'Bernoulli', 'subsample': 0.5104383541732955}. Best is trial 16 with value: 0.9316666666666666.\u001b[0m\n",
            "\u001b[32m[I 2022-05-09 10:10:53,429]\u001b[0m Trial 26 finished with value: 0.92 and parameters: {'objective': 'CrossEntropy', 'colsample_bylevel': 0.0782422774139639, 'depth': 9, 'boosting_type': 'Ordered', 'bootstrap_type': 'Bernoulli', 'subsample': 0.9140202552616714}. Best is trial 16 with value: 0.9316666666666666.\u001b[0m\n",
            "\u001b[32m[I 2022-05-09 10:10:54,267]\u001b[0m Trial 27 finished with value: 0.9241666666666667 and parameters: {'objective': 'Logloss', 'colsample_bylevel': 0.0919290931721174, 'depth': 7, 'boosting_type': 'Plain', 'bootstrap_type': 'Bayesian', 'bagging_temperature': 2.0044145515778045}. Best is trial 16 with value: 0.9316666666666666.\u001b[0m\n",
            "\u001b[32m[I 2022-05-09 10:10:55,120]\u001b[0m Trial 28 finished with value: 0.9183333333333333 and parameters: {'objective': 'Logloss', 'colsample_bylevel': 0.08292220595325525, 'depth': 10, 'boosting_type': 'Plain', 'bootstrap_type': 'Bernoulli', 'subsample': 0.7697715035429218}. Best is trial 16 with value: 0.9316666666666666.\u001b[0m\n",
            "\u001b[32m[I 2022-05-09 10:10:56,035]\u001b[0m Trial 29 finished with value: 0.9191666666666667 and parameters: {'objective': 'Logloss', 'colsample_bylevel': 0.07175658000296672, 'depth': 4, 'boosting_type': 'Plain', 'bootstrap_type': 'MVS'}. Best is trial 16 with value: 0.9316666666666666.\u001b[0m\n",
            "\u001b[32m[I 2022-05-09 10:10:56,927]\u001b[0m Trial 30 finished with value: 0.9316666666666666 and parameters: {'objective': 'Logloss', 'colsample_bylevel': 0.05403825564432416, 'depth': 8, 'boosting_type': 'Plain', 'bootstrap_type': 'MVS'}. Best is trial 16 with value: 0.9316666666666666.\u001b[0m\n",
            "\u001b[32m[I 2022-05-09 10:10:57,697]\u001b[0m Trial 31 finished with value: 0.8683333333333333 and parameters: {'objective': 'Logloss', 'colsample_bylevel': 0.010076308551919766, 'depth': 8, 'boosting_type': 'Plain', 'bootstrap_type': 'MVS'}. Best is trial 16 with value: 0.9316666666666666.\u001b[0m\n",
            "\u001b[32m[I 2022-05-09 10:10:58,584]\u001b[0m Trial 32 finished with value: 0.9358333333333333 and parameters: {'objective': 'Logloss', 'colsample_bylevel': 0.051820620919506774, 'depth': 9, 'boosting_type': 'Plain', 'bootstrap_type': 'MVS'}. Best is trial 32 with value: 0.9358333333333333.\u001b[0m\n",
            "\u001b[32m[I 2022-05-09 10:10:59,472]\u001b[0m Trial 33 finished with value: 0.92 and parameters: {'objective': 'Logloss', 'colsample_bylevel': 0.05191690894895275, 'depth': 9, 'boosting_type': 'Plain', 'bootstrap_type': 'MVS'}. Best is trial 32 with value: 0.9358333333333333.\u001b[0m\n",
            "\u001b[32m[I 2022-05-09 10:11:00,283]\u001b[0m Trial 34 finished with value: 0.92 and parameters: {'objective': 'CrossEntropy', 'colsample_bylevel': 0.029207650467436903, 'depth': 9, 'boosting_type': 'Plain', 'bootstrap_type': 'MVS'}. Best is trial 32 with value: 0.9358333333333333.\u001b[0m\n",
            "\u001b[32m[I 2022-05-09 10:11:03,104]\u001b[0m Trial 35 finished with value: 0.9341666666666667 and parameters: {'objective': 'Logloss', 'colsample_bylevel': 0.061327849759520076, 'depth': 10, 'boosting_type': 'Ordered', 'bootstrap_type': 'MVS'}. Best is trial 32 with value: 0.9358333333333333.\u001b[0m\n",
            "\u001b[32m[I 2022-05-09 10:11:05,751]\u001b[0m Trial 36 finished with value: 0.9191666666666667 and parameters: {'objective': 'Logloss', 'colsample_bylevel': 0.04641792825228533, 'depth': 11, 'boosting_type': 'Ordered', 'bootstrap_type': 'MVS'}. Best is trial 32 with value: 0.9358333333333333.\u001b[0m\n",
            "\u001b[32m[I 2022-05-09 10:11:08,477]\u001b[0m Trial 37 finished with value: 0.9225 and parameters: {'objective': 'Logloss', 'colsample_bylevel': 0.062213485462324775, 'depth': 11, 'boosting_type': 'Ordered', 'bootstrap_type': 'MVS'}. Best is trial 32 with value: 0.9358333333333333.\u001b[0m\n",
            "\u001b[32m[I 2022-05-09 10:11:11,167]\u001b[0m Trial 38 finished with value: 0.9091666666666667 and parameters: {'objective': 'CrossEntropy', 'colsample_bylevel': 0.05685013641376643, 'depth': 10, 'boosting_type': 'Ordered', 'bootstrap_type': 'MVS'}. Best is trial 32 with value: 0.9358333333333333.\u001b[0m\n",
            "\u001b[32m[I 2022-05-09 10:11:13,948]\u001b[0m Trial 39 finished with value: 0.9266666666666666 and parameters: {'objective': 'Logloss', 'colsample_bylevel': 0.0594762681496612, 'depth': 8, 'boosting_type': 'Ordered', 'bootstrap_type': 'MVS'}. Best is trial 32 with value: 0.9358333333333333.\u001b[0m\n",
            "\u001b[32m[I 2022-05-09 10:11:16,786]\u001b[0m Trial 40 finished with value: 0.9183333333333333 and parameters: {'objective': 'Logloss', 'colsample_bylevel': 0.06516571318994226, 'depth': 7, 'boosting_type': 'Ordered', 'bootstrap_type': 'MVS'}. Best is trial 32 with value: 0.9358333333333333.\u001b[0m\n",
            "\u001b[32m[I 2022-05-09 10:11:19,664]\u001b[0m Trial 41 finished with value: 0.9258333333333333 and parameters: {'objective': 'Logloss', 'colsample_bylevel': 0.07321197315056091, 'depth': 9, 'boosting_type': 'Ordered', 'bootstrap_type': 'MVS'}. Best is trial 32 with value: 0.9358333333333333.\u001b[0m\n",
            "\u001b[32m[I 2022-05-09 10:11:22,406]\u001b[0m Trial 42 finished with value: 0.9216666666666666 and parameters: {'objective': 'Logloss', 'colsample_bylevel': 0.05135174547725341, 'depth': 9, 'boosting_type': 'Ordered', 'bootstrap_type': 'MVS'}. Best is trial 32 with value: 0.9358333333333333.\u001b[0m\n",
            "\u001b[32m[I 2022-05-09 10:11:23,288]\u001b[0m Trial 43 finished with value: 0.9133333333333333 and parameters: {'objective': 'Logloss', 'colsample_bylevel': 0.05502364725099339, 'depth': 8, 'boosting_type': 'Plain', 'bootstrap_type': 'MVS'}. Best is trial 32 with value: 0.9358333333333333.\u001b[0m\n",
            "\u001b[32m[I 2022-05-09 10:11:24,132]\u001b[0m Trial 44 finished with value: 0.925 and parameters: {'objective': 'CrossEntropy', 'colsample_bylevel': 0.044089819294048135, 'depth': 10, 'boosting_type': 'Plain', 'bootstrap_type': 'MVS'}. Best is trial 32 with value: 0.9358333333333333.\u001b[0m\n",
            "\u001b[32m[I 2022-05-09 10:11:26,893]\u001b[0m Trial 45 finished with value: 0.9208333333333333 and parameters: {'objective': 'Logloss', 'colsample_bylevel': 0.0605791098385016, 'depth': 11, 'boosting_type': 'Ordered', 'bootstrap_type': 'MVS'}. Best is trial 32 with value: 0.9358333333333333.\u001b[0m\n",
            "\u001b[32m[I 2022-05-09 10:11:27,758]\u001b[0m Trial 46 finished with value: 0.9075 and parameters: {'objective': 'Logloss', 'colsample_bylevel': 0.06625764189514735, 'depth': 6, 'boosting_type': 'Plain', 'bootstrap_type': 'Bayesian', 'bagging_temperature': 6.1812214844198206}. Best is trial 32 with value: 0.9358333333333333.\u001b[0m\n",
            "\u001b[32m[I 2022-05-09 10:11:28,614]\u001b[0m Trial 47 finished with value: 0.9316666666666666 and parameters: {'objective': 'Logloss', 'colsample_bylevel': 0.036968461174035926, 'depth': 10, 'boosting_type': 'Plain', 'bootstrap_type': 'MVS'}. Best is trial 32 with value: 0.9358333333333333.\u001b[0m\n",
            "\u001b[32m[I 2022-05-09 10:11:29,438]\u001b[0m Trial 48 finished with value: 0.935 and parameters: {'objective': 'Logloss', 'colsample_bylevel': 0.02801524283757838, 'depth': 10, 'boosting_type': 'Plain', 'bootstrap_type': 'MVS'}. Best is trial 32 with value: 0.9358333333333333.\u001b[0m\n",
            "\u001b[32m[I 2022-05-09 10:11:30,265]\u001b[0m Trial 49 finished with value: 0.9266666666666666 and parameters: {'objective': 'Logloss', 'colsample_bylevel': 0.027401383001502567, 'depth': 10, 'boosting_type': 'Plain', 'bootstrap_type': 'MVS'}. Best is trial 32 with value: 0.9358333333333333.\u001b[0m\n"
          ]
        }
      ],
      "source": [
        "study = optuna.create_study(direction='maximize')\n",
        "study.optimize(objective, n_trials=50, timeout=600)"
      ]
    },
    {
      "cell_type": "code",
      "execution_count": 15,
      "metadata": {
        "id": "BMDuVHXdQgR4",
        "outputId": "e87daaf3-8ab1-4e59-ab46-0f28d8cc9f40",
        "colab": {
          "base_uri": "https://localhost:8080/"
        }
      },
      "outputs": [
        {
          "output_type": "stream",
          "name": "stdout",
          "text": [
            "NUmber of finshed trials: 50\n",
            "Best trial:\n",
            " Value: 0.9358333333333333\n",
            " Params: \n",
            " objective: Logloss\n",
            " colsample_bylevel: 0.051820620919506774\n",
            " depth: 9\n",
            " boosting_type: Plain\n",
            " bootstrap_type: MVS\n"
          ]
        }
      ],
      "source": [
        "print('NUmber of finshed trials: {}'.format(len(study.trials)))\n",
        "print('Best trial:')\n",
        "\n",
        "trial = study.best_trial\n",
        "\n",
        "print(' Value: {}'.format(trial.value))\n",
        "\n",
        "print(' Params: ')\n",
        "for key, value in trial.params.items():\n",
        "    print(' {}: {}'.format(key, value))"
      ]
    },
    {
      "cell_type": "code",
      "execution_count": 16,
      "metadata": {
        "id": "KTHVckkdQgR5"
      },
      "outputs": [],
      "source": [
        "train_x, test_x, train_y, test_y = train_test_split(x, y, test_size=0.2, random_state=30)\n"
      ]
    },
    {
      "cell_type": "code",
      "execution_count": 17,
      "metadata": {
        "id": "RGg5xP93QgR5"
      },
      "outputs": [],
      "source": [
        "cb_loan = cb.CatBoostClassifier(n_estimators=100,\n",
        "                                objective='CrossEntropy',\n",
        "                                colsample_bylevel=0.09,\n",
        "                                depth=4,\n",
        "                                boosting_type='Plain',\n",
        "                                bootstrap_type='Bernoulli',\n",
        "                                subsample=0.34,\n",
        "                                loss_function='Logloss',\n",
        "                                learning_rate=0.1,\n",
        "                                task_type='CPU',\n",
        "                                random_state=1,\n",
        "                                verbose=False)"
      ]
    },
    {
      "cell_type": "code",
      "execution_count": 18,
      "metadata": {
        "id": "AQbOYLwkQgR6",
        "outputId": "e74d95a1-63b4-48a4-d256-4b950aa1cf3e",
        "colab": {
          "base_uri": "https://localhost:8080/"
        }
      },
      "outputs": [
        {
          "output_type": "execute_result",
          "data": {
            "text/plain": [
              "<catboost.core.CatBoostClassifier at 0x7f80a6d05a90>"
            ]
          },
          "metadata": {},
          "execution_count": 18
        }
      ],
      "source": [
        "cb_loan.fit(train_x, train_y)"
      ]
    },
    {
      "cell_type": "code",
      "execution_count": 19,
      "metadata": {
        "id": "nD0PdE5vQgR6"
      },
      "outputs": [],
      "source": [
        "loan_predicted = cb_loan.predict(test_x)"
      ]
    },
    {
      "cell_type": "code",
      "execution_count": 20,
      "metadata": {
        "id": "ScKwUVESQgR7"
      },
      "outputs": [],
      "source": [
        "model_rmse = np.sqrt(mse(test_y, loan_predicted))"
      ]
    },
    {
      "cell_type": "code",
      "execution_count": 21,
      "metadata": {
        "id": "Ll4eS7-1QgR7",
        "outputId": "d581a476-4891-446a-da9b-dc56e307673f",
        "colab": {
          "base_uri": "https://localhost:8080/"
        }
      },
      "outputs": [
        {
          "output_type": "execute_result",
          "data": {
            "text/plain": [
              "0.2936835031117683"
            ]
          },
          "metadata": {},
          "execution_count": 21
        }
      ],
      "source": [
        "model_rmse"
      ]
    },
    {
      "cell_type": "code",
      "execution_count": 21,
      "metadata": {
        "id": "ffNRpcYeQgR7"
      },
      "outputs": [],
      "source": [
        "cb_optuna = 'catboost_optuna_saved_model.sav'\n",
        "pickle.dump(cb_loan, open(cb_optuna, 'wb'))"
      ]
    },
    {
      "cell_type": "code",
      "source": [
        "cb_loaded = pickle.load(open(cb_optuna, 'rb'))"
      ],
      "metadata": {
        "id": "A-J9-OAvT0D9"
      },
      "execution_count": null,
      "outputs": []
    },
    {
      "cell_type": "code",
      "source": [
        "instance_score = cb_loaded.score(cb_loaded, single_instance)\n",
        "print(instance_score)"
      ],
      "metadata": {
        "id": "GtSVX88yVgzx"
      },
      "execution_count": null,
      "outputs": []
    }
  ],
  "metadata": {
    "interpreter": {
      "hash": "69eb92836b941e979072a76c7fcfffe5419cca933cedd02cfafbdfca1a93358c"
    },
    "kernelspec": {
      "display_name": "Python 3.9.10 64-bit",
      "language": "python",
      "name": "python3"
    },
    "language_info": {
      "codemirror_mode": {
        "name": "ipython",
        "version": 3
      },
      "file_extension": ".py",
      "mimetype": "text/x-python",
      "name": "python",
      "nbconvert_exporter": "python",
      "pygments_lexer": "ipython3",
      "version": "3.9.10"
    },
    "orig_nbformat": 4,
    "colab": {
      "name": "catboost_optuna.ipynb",
      "provenance": []
    }
  },
  "nbformat": 4,
  "nbformat_minor": 0
}