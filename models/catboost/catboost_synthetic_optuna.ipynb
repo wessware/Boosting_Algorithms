{
 "cells": [
  {
   "cell_type": "code",
   "execution_count": 1,
   "metadata": {},
   "outputs": [],
   "source": [
    "import pandas as pd\n",
    "import numpy as np\n",
    "import catboost as cb\n",
    "import optuna\n",
    "\n",
    "from sklearn.model_selection import train_test_split\n",
    "from sklearn.metrics import accuracy_score\n",
    "from sklearn.metrics import mean_squared_error as mse"
   ]
  },
  {
   "cell_type": "code",
   "execution_count": 2,
   "metadata": {},
   "outputs": [],
   "source": [
    "df = pd.read_csv('../../datasets/synthesized_loan_data.csv')"
   ]
  },
  {
   "cell_type": "code",
   "execution_count": 3,
   "metadata": {},
   "outputs": [
    {
     "data": {
      "text/html": [
       "<div>\n",
       "<style scoped>\n",
       "    .dataframe tbody tr th:only-of-type {\n",
       "        vertical-align: middle;\n",
       "    }\n",
       "\n",
       "    .dataframe tbody tr th {\n",
       "        vertical-align: top;\n",
       "    }\n",
       "\n",
       "    .dataframe thead th {\n",
       "        text-align: right;\n",
       "    }\n",
       "</style>\n",
       "<table border=\"1\" class=\"dataframe\">\n",
       "  <thead>\n",
       "    <tr style=\"text-align: right;\">\n",
       "      <th></th>\n",
       "      <th>Gender</th>\n",
       "      <th>Married</th>\n",
       "      <th>Dependents</th>\n",
       "      <th>Education</th>\n",
       "      <th>Self_Employed</th>\n",
       "      <th>ApplicantIncome</th>\n",
       "      <th>CoapplicantIncome</th>\n",
       "      <th>LoanAmount</th>\n",
       "      <th>Loan_Amount_Term</th>\n",
       "      <th>Credit_History</th>\n",
       "      <th>Property_Area</th>\n",
       "      <th>Loan_Status</th>\n",
       "    </tr>\n",
       "  </thead>\n",
       "  <tbody>\n",
       "    <tr>\n",
       "      <th>0</th>\n",
       "      <td>1</td>\n",
       "      <td>1</td>\n",
       "      <td>1.015491</td>\n",
       "      <td>0</td>\n",
       "      <td>0</td>\n",
       "      <td>60</td>\n",
       "      <td>2263.426739</td>\n",
       "      <td>120.264574</td>\n",
       "      <td>362.034926</td>\n",
       "      <td>0.999618</td>\n",
       "      <td>2</td>\n",
       "      <td>1</td>\n",
       "    </tr>\n",
       "    <tr>\n",
       "      <th>1</th>\n",
       "      <td>1</td>\n",
       "      <td>1</td>\n",
       "      <td>2.793550</td>\n",
       "      <td>1</td>\n",
       "      <td>2</td>\n",
       "      <td>299</td>\n",
       "      <td>207.078743</td>\n",
       "      <td>97.333547</td>\n",
       "      <td>185.855127</td>\n",
       "      <td>0.994450</td>\n",
       "      <td>1</td>\n",
       "      <td>1</td>\n",
       "    </tr>\n",
       "    <tr>\n",
       "      <th>2</th>\n",
       "      <td>0</td>\n",
       "      <td>0</td>\n",
       "      <td>1.020575</td>\n",
       "      <td>0</td>\n",
       "      <td>1</td>\n",
       "      <td>497</td>\n",
       "      <td>-222.105153</td>\n",
       "      <td>98.957504</td>\n",
       "      <td>361.411489</td>\n",
       "      <td>0.999132</td>\n",
       "      <td>0</td>\n",
       "      <td>1</td>\n",
       "    </tr>\n",
       "    <tr>\n",
       "      <th>3</th>\n",
       "      <td>1</td>\n",
       "      <td>1</td>\n",
       "      <td>0.967628</td>\n",
       "      <td>0</td>\n",
       "      <td>0</td>\n",
       "      <td>35</td>\n",
       "      <td>1874.200797</td>\n",
       "      <td>141.121981</td>\n",
       "      <td>360.427013</td>\n",
       "      <td>0.999273</td>\n",
       "      <td>2</td>\n",
       "      <td>1</td>\n",
       "    </tr>\n",
       "    <tr>\n",
       "      <th>4</th>\n",
       "      <td>1</td>\n",
       "      <td>1</td>\n",
       "      <td>1.929354</td>\n",
       "      <td>0</td>\n",
       "      <td>0</td>\n",
       "      <td>340</td>\n",
       "      <td>47.080906</td>\n",
       "      <td>322.936778</td>\n",
       "      <td>360.013915</td>\n",
       "      <td>0.979882</td>\n",
       "      <td>0</td>\n",
       "      <td>1</td>\n",
       "    </tr>\n",
       "  </tbody>\n",
       "</table>\n",
       "</div>"
      ],
      "text/plain": [
       "   Gender  Married  Dependents  Education  Self_Employed  ApplicantIncome  \\\n",
       "0       1        1    1.015491          0              0               60   \n",
       "1       1        1    2.793550          1              2              299   \n",
       "2       0        0    1.020575          0              1              497   \n",
       "3       1        1    0.967628          0              0               35   \n",
       "4       1        1    1.929354          0              0              340   \n",
       "\n",
       "   CoapplicantIncome  LoanAmount  Loan_Amount_Term  Credit_History  \\\n",
       "0        2263.426739  120.264574        362.034926        0.999618   \n",
       "1         207.078743   97.333547        185.855127        0.994450   \n",
       "2        -222.105153   98.957504        361.411489        0.999132   \n",
       "3        1874.200797  141.121981        360.427013        0.999273   \n",
       "4          47.080906  322.936778        360.013915        0.979882   \n",
       "\n",
       "   Property_Area  Loan_Status  \n",
       "0              2            1  \n",
       "1              1            1  \n",
       "2              0            1  \n",
       "3              2            1  \n",
       "4              0            1  "
      ]
     },
     "execution_count": 3,
     "metadata": {},
     "output_type": "execute_result"
    }
   ],
   "source": [
    "df.head()"
   ]
  },
  {
   "cell_type": "code",
   "execution_count": 4,
   "metadata": {},
   "outputs": [
    {
     "data": {
      "text/plain": [
       "Index(['Gender', 'Married', 'Dependents', 'Education', 'Self_Employed',\n",
       "       'ApplicantIncome', 'CoapplicantIncome', 'LoanAmount',\n",
       "       'Loan_Amount_Term', 'Credit_History', 'Property_Area', 'Loan_Status'],\n",
       "      dtype='object')"
      ]
     },
     "execution_count": 4,
     "metadata": {},
     "output_type": "execute_result"
    }
   ],
   "source": [
    "df.columns"
   ]
  },
  {
   "cell_type": "code",
   "execution_count": 5,
   "metadata": {},
   "outputs": [],
   "source": [
    "x = df.drop(columns=['Loan_Status'])\n",
    "y = df['Loan_Status']"
   ]
  },
  {
   "cell_type": "code",
   "execution_count": 6,
   "metadata": {},
   "outputs": [
    {
     "data": {
      "text/html": [
       "<div>\n",
       "<style scoped>\n",
       "    .dataframe tbody tr th:only-of-type {\n",
       "        vertical-align: middle;\n",
       "    }\n",
       "\n",
       "    .dataframe tbody tr th {\n",
       "        vertical-align: top;\n",
       "    }\n",
       "\n",
       "    .dataframe thead th {\n",
       "        text-align: right;\n",
       "    }\n",
       "</style>\n",
       "<table border=\"1\" class=\"dataframe\">\n",
       "  <thead>\n",
       "    <tr style=\"text-align: right;\">\n",
       "      <th></th>\n",
       "      <th>Gender</th>\n",
       "      <th>Married</th>\n",
       "      <th>Dependents</th>\n",
       "      <th>Education</th>\n",
       "      <th>Self_Employed</th>\n",
       "      <th>ApplicantIncome</th>\n",
       "      <th>CoapplicantIncome</th>\n",
       "      <th>LoanAmount</th>\n",
       "      <th>Loan_Amount_Term</th>\n",
       "      <th>Credit_History</th>\n",
       "      <th>Property_Area</th>\n",
       "    </tr>\n",
       "  </thead>\n",
       "  <tbody>\n",
       "    <tr>\n",
       "      <th>0</th>\n",
       "      <td>1</td>\n",
       "      <td>1</td>\n",
       "      <td>1.015491</td>\n",
       "      <td>0</td>\n",
       "      <td>0</td>\n",
       "      <td>60</td>\n",
       "      <td>2263.426739</td>\n",
       "      <td>120.264574</td>\n",
       "      <td>362.034926</td>\n",
       "      <td>0.999618</td>\n",
       "      <td>2</td>\n",
       "    </tr>\n",
       "    <tr>\n",
       "      <th>1</th>\n",
       "      <td>1</td>\n",
       "      <td>1</td>\n",
       "      <td>2.793550</td>\n",
       "      <td>1</td>\n",
       "      <td>2</td>\n",
       "      <td>299</td>\n",
       "      <td>207.078743</td>\n",
       "      <td>97.333547</td>\n",
       "      <td>185.855127</td>\n",
       "      <td>0.994450</td>\n",
       "      <td>1</td>\n",
       "    </tr>\n",
       "    <tr>\n",
       "      <th>2</th>\n",
       "      <td>0</td>\n",
       "      <td>0</td>\n",
       "      <td>1.020575</td>\n",
       "      <td>0</td>\n",
       "      <td>1</td>\n",
       "      <td>497</td>\n",
       "      <td>-222.105153</td>\n",
       "      <td>98.957504</td>\n",
       "      <td>361.411489</td>\n",
       "      <td>0.999132</td>\n",
       "      <td>0</td>\n",
       "    </tr>\n",
       "    <tr>\n",
       "      <th>3</th>\n",
       "      <td>1</td>\n",
       "      <td>1</td>\n",
       "      <td>0.967628</td>\n",
       "      <td>0</td>\n",
       "      <td>0</td>\n",
       "      <td>35</td>\n",
       "      <td>1874.200797</td>\n",
       "      <td>141.121981</td>\n",
       "      <td>360.427013</td>\n",
       "      <td>0.999273</td>\n",
       "      <td>2</td>\n",
       "    </tr>\n",
       "    <tr>\n",
       "      <th>4</th>\n",
       "      <td>1</td>\n",
       "      <td>1</td>\n",
       "      <td>1.929354</td>\n",
       "      <td>0</td>\n",
       "      <td>0</td>\n",
       "      <td>340</td>\n",
       "      <td>47.080906</td>\n",
       "      <td>322.936778</td>\n",
       "      <td>360.013915</td>\n",
       "      <td>0.979882</td>\n",
       "      <td>0</td>\n",
       "    </tr>\n",
       "    <tr>\n",
       "      <th>...</th>\n",
       "      <td>...</td>\n",
       "      <td>...</td>\n",
       "      <td>...</td>\n",
       "      <td>...</td>\n",
       "      <td>...</td>\n",
       "      <td>...</td>\n",
       "      <td>...</td>\n",
       "      <td>...</td>\n",
       "      <td>...</td>\n",
       "      <td>...</td>\n",
       "      <td>...</td>\n",
       "    </tr>\n",
       "    <tr>\n",
       "      <th>3995</th>\n",
       "      <td>1</td>\n",
       "      <td>1</td>\n",
       "      <td>2.118012</td>\n",
       "      <td>0</td>\n",
       "      <td>0</td>\n",
       "      <td>248</td>\n",
       "      <td>2693.049737</td>\n",
       "      <td>176.172212</td>\n",
       "      <td>360.665439</td>\n",
       "      <td>1.007047</td>\n",
       "      <td>1</td>\n",
       "    </tr>\n",
       "    <tr>\n",
       "      <th>3996</th>\n",
       "      <td>0</td>\n",
       "      <td>0</td>\n",
       "      <td>-0.002574</td>\n",
       "      <td>0</td>\n",
       "      <td>0</td>\n",
       "      <td>249</td>\n",
       "      <td>1949.728061</td>\n",
       "      <td>117.277610</td>\n",
       "      <td>361.044262</td>\n",
       "      <td>0.986177</td>\n",
       "      <td>1</td>\n",
       "    </tr>\n",
       "    <tr>\n",
       "      <th>3997</th>\n",
       "      <td>1</td>\n",
       "      <td>1</td>\n",
       "      <td>0.010152</td>\n",
       "      <td>0</td>\n",
       "      <td>0</td>\n",
       "      <td>300</td>\n",
       "      <td>2882.202092</td>\n",
       "      <td>136.098872</td>\n",
       "      <td>361.722296</td>\n",
       "      <td>0.994603</td>\n",
       "      <td>0</td>\n",
       "    </tr>\n",
       "    <tr>\n",
       "      <th>3998</th>\n",
       "      <td>0</td>\n",
       "      <td>1</td>\n",
       "      <td>-0.002625</td>\n",
       "      <td>0</td>\n",
       "      <td>0</td>\n",
       "      <td>385</td>\n",
       "      <td>182.631094</td>\n",
       "      <td>191.733185</td>\n",
       "      <td>360.723093</td>\n",
       "      <td>0.989029</td>\n",
       "      <td>1</td>\n",
       "    </tr>\n",
       "    <tr>\n",
       "      <th>3999</th>\n",
       "      <td>1</td>\n",
       "      <td>1</td>\n",
       "      <td>0.007271</td>\n",
       "      <td>0</td>\n",
       "      <td>0</td>\n",
       "      <td>462</td>\n",
       "      <td>2590.286571</td>\n",
       "      <td>119.756303</td>\n",
       "      <td>360.276315</td>\n",
       "      <td>0.997789</td>\n",
       "      <td>1</td>\n",
       "    </tr>\n",
       "  </tbody>\n",
       "</table>\n",
       "<p>4000 rows × 11 columns</p>\n",
       "</div>"
      ],
      "text/plain": [
       "      Gender  Married  Dependents  Education  Self_Employed  ApplicantIncome  \\\n",
       "0          1        1    1.015491          0              0               60   \n",
       "1          1        1    2.793550          1              2              299   \n",
       "2          0        0    1.020575          0              1              497   \n",
       "3          1        1    0.967628          0              0               35   \n",
       "4          1        1    1.929354          0              0              340   \n",
       "...      ...      ...         ...        ...            ...              ...   \n",
       "3995       1        1    2.118012          0              0              248   \n",
       "3996       0        0   -0.002574          0              0              249   \n",
       "3997       1        1    0.010152          0              0              300   \n",
       "3998       0        1   -0.002625          0              0              385   \n",
       "3999       1        1    0.007271          0              0              462   \n",
       "\n",
       "      CoapplicantIncome  LoanAmount  Loan_Amount_Term  Credit_History  \\\n",
       "0           2263.426739  120.264574        362.034926        0.999618   \n",
       "1            207.078743   97.333547        185.855127        0.994450   \n",
       "2           -222.105153   98.957504        361.411489        0.999132   \n",
       "3           1874.200797  141.121981        360.427013        0.999273   \n",
       "4             47.080906  322.936778        360.013915        0.979882   \n",
       "...                 ...         ...               ...             ...   \n",
       "3995        2693.049737  176.172212        360.665439        1.007047   \n",
       "3996        1949.728061  117.277610        361.044262        0.986177   \n",
       "3997        2882.202092  136.098872        361.722296        0.994603   \n",
       "3998         182.631094  191.733185        360.723093        0.989029   \n",
       "3999        2590.286571  119.756303        360.276315        0.997789   \n",
       "\n",
       "      Property_Area  \n",
       "0                 2  \n",
       "1                 1  \n",
       "2                 0  \n",
       "3                 2  \n",
       "4                 0  \n",
       "...             ...  \n",
       "3995              1  \n",
       "3996              1  \n",
       "3997              0  \n",
       "3998              1  \n",
       "3999              1  \n",
       "\n",
       "[4000 rows x 11 columns]"
      ]
     },
     "execution_count": 6,
     "metadata": {},
     "output_type": "execute_result"
    }
   ],
   "source": [
    "x"
   ]
  },
  {
   "cell_type": "code",
   "execution_count": 7,
   "metadata": {},
   "outputs": [
    {
     "data": {
      "text/plain": [
       "0       1\n",
       "1       1\n",
       "2       1\n",
       "3       1\n",
       "4       1\n",
       "       ..\n",
       "3995    1\n",
       "3996    1\n",
       "3997    1\n",
       "3998    0\n",
       "3999    1\n",
       "Name: Loan_Status, Length: 4000, dtype: int64"
      ]
     },
     "execution_count": 7,
     "metadata": {},
     "output_type": "execute_result"
    }
   ],
   "source": [
    "y"
   ]
  },
  {
   "cell_type": "code",
   "execution_count": 8,
   "metadata": {},
   "outputs": [],
   "source": [
    "def objective(trial):\n",
    "    x_train, x_validate, y_train, y_validate = train_test_split(x, y, test_size=0.3)\n",
    "    \n",
    "    param = {\n",
    "        'objective': trial.suggest_categorical('objective', ['Logloss', 'CrossEntropy']),\n",
    "        'colsample_bylevel': trial.suggest_float('colsample_bylevel', 0.01, 0.1),\n",
    "        'depth' : trial.suggest_int('depth', 1, 12),\n",
    "        'boosting_type' : trial.suggest_categorical('boosting_type', ['Ordered', 'Plain']),\n",
    "        'bootstrap_type' : trial.suggest_categorical('bootstrap_type', ['Bayesian', 'Bernoulli', 'MVS']),\n",
    "        'used_ram_limit' : '3gb',\n",
    "    }\n",
    "    \n",
    "    if param['bootstrap_type'] == 'Bayesian': param['bagging_temperature'] = trial.suggest_float('bagging_temperature', 0, 10)\n",
    "    \n",
    "    elif param['bootstrap_type'] == 'Bernoulli' : param['subsample'] = trial.suggest_float('subsample', 0.1, 1)\n",
    "    \n",
    "    gbm = cb.CatBoostClassifier(**param)\n",
    "    \n",
    "    gbm.fit(x_train, y_train, eval_set=[(x_validate, y_validate)], verbose=0, early_stopping_rounds=100)\n",
    "    \n",
    "    preds = gbm.predict(x_validate)\n",
    "    pred_labels = np.rint(preds)\n",
    "    accuracy = accuracy_score(y_validate, pred_labels)\n",
    "    \n",
    "    return accuracy"
   ]
  },
  {
   "cell_type": "code",
   "execution_count": 9,
   "metadata": {},
   "outputs": [
    {
     "name": "stderr",
     "output_type": "stream",
     "text": [
      "\u001b[32m[I 2022-05-08 17:11:46,189]\u001b[0m A new study created in memory with name: no-name-40e034cb-6be2-404a-a58c-e7c91bd73c95\u001b[0m\n",
      "\u001b[32m[I 2022-05-08 17:12:17,288]\u001b[0m Trial 0 finished with value: 0.9141666666666667 and parameters: {'objective': 'Logloss', 'colsample_bylevel': 0.04715184529890206, 'depth': 1, 'boosting_type': 'Ordered', 'bootstrap_type': 'MVS'}. Best is trial 0 with value: 0.9141666666666667.\u001b[0m\n",
      "\u001b[32m[I 2022-05-08 17:12:26,664]\u001b[0m Trial 1 finished with value: 0.9241666666666667 and parameters: {'objective': 'Logloss', 'colsample_bylevel': 0.0826224953672576, 'depth': 4, 'boosting_type': 'Plain', 'bootstrap_type': 'Bayesian', 'bagging_temperature': 9.692561733592802}. Best is trial 1 with value: 0.9241666666666667.\u001b[0m\n",
      "\u001b[32m[I 2022-05-08 17:12:35,962]\u001b[0m Trial 2 finished with value: 0.9316666666666666 and parameters: {'objective': 'Logloss', 'colsample_bylevel': 0.03821750196550218, 'depth': 7, 'boosting_type': 'Plain', 'bootstrap_type': 'Bayesian', 'bagging_temperature': 1.673680244813166}. Best is trial 2 with value: 0.9316666666666666.\u001b[0m\n",
      "\u001b[32m[I 2022-05-08 17:13:00,149]\u001b[0m Trial 3 finished with value: 0.8691666666666666 and parameters: {'objective': 'CrossEntropy', 'colsample_bylevel': 0.0186297679685788, 'depth': 10, 'boosting_type': 'Ordered', 'bootstrap_type': 'Bayesian', 'bagging_temperature': 9.07897513455243}. Best is trial 2 with value: 0.9316666666666666.\u001b[0m\n",
      "\u001b[32m[I 2022-05-08 17:13:27,265]\u001b[0m Trial 4 finished with value: 0.92 and parameters: {'objective': 'Logloss', 'colsample_bylevel': 0.04860596016226262, 'depth': 8, 'boosting_type': 'Ordered', 'bootstrap_type': 'MVS'}. Best is trial 2 with value: 0.9316666666666666.\u001b[0m\n",
      "\u001b[32m[I 2022-05-08 17:13:54,775]\u001b[0m Trial 5 finished with value: 0.9233333333333333 and parameters: {'objective': 'Logloss', 'colsample_bylevel': 0.07170495767247048, 'depth': 11, 'boosting_type': 'Ordered', 'bootstrap_type': 'MVS'}. Best is trial 2 with value: 0.9316666666666666.\u001b[0m\n",
      "\u001b[32m[I 2022-05-08 17:14:01,848]\u001b[0m Trial 6 finished with value: 0.9175 and parameters: {'objective': 'CrossEntropy', 'colsample_bylevel': 0.09200950811726398, 'depth': 2, 'boosting_type': 'Plain', 'bootstrap_type': 'Bayesian', 'bagging_temperature': 6.218819312835018}. Best is trial 2 with value: 0.9316666666666666.\u001b[0m\n",
      "\u001b[32m[I 2022-05-08 17:14:09,657]\u001b[0m Trial 7 finished with value: 0.9341666666666667 and parameters: {'objective': 'Logloss', 'colsample_bylevel': 0.0994074681403168, 'depth': 3, 'boosting_type': 'Plain', 'bootstrap_type': 'Bernoulli', 'subsample': 0.8648554732869767}. Best is trial 7 with value: 0.9341666666666667.\u001b[0m\n",
      "\u001b[32m[I 2022-05-08 17:14:17,010]\u001b[0m Trial 8 finished with value: 0.9258333333333333 and parameters: {'objective': 'CrossEntropy', 'colsample_bylevel': 0.040838093282452366, 'depth': 12, 'boosting_type': 'Plain', 'bootstrap_type': 'Bayesian', 'bagging_temperature': 0.09380427037158023}. Best is trial 7 with value: 0.9341666666666667.\u001b[0m\n",
      "\u001b[32m[I 2022-05-08 17:14:25,581]\u001b[0m Trial 9 finished with value: 0.9191666666666667 and parameters: {'objective': 'CrossEntropy', 'colsample_bylevel': 0.04957480209753875, 'depth': 7, 'boosting_type': 'Plain', 'bootstrap_type': 'MVS'}. Best is trial 7 with value: 0.9341666666666667.\u001b[0m\n",
      "\u001b[32m[I 2022-05-08 17:14:30,770]\u001b[0m Trial 10 finished with value: 0.9183333333333333 and parameters: {'objective': 'Logloss', 'colsample_bylevel': 0.09935111800436583, 'depth': 4, 'boosting_type': 'Plain', 'bootstrap_type': 'Bernoulli', 'subsample': 0.9088594019047551}. Best is trial 7 with value: 0.9341666666666667.\u001b[0m\n",
      "\u001b[32m[I 2022-05-08 17:14:36,855]\u001b[0m Trial 11 finished with value: 0.9225 and parameters: {'objective': 'Logloss', 'colsample_bylevel': 0.024504644585487997, 'depth': 5, 'boosting_type': 'Plain', 'bootstrap_type': 'Bernoulli', 'subsample': 0.7473979963367637}. Best is trial 7 with value: 0.9341666666666667.\u001b[0m\n",
      "\u001b[32m[I 2022-05-08 17:14:46,598]\u001b[0m Trial 12 finished with value: 0.9158333333333334 and parameters: {'objective': 'Logloss', 'colsample_bylevel': 0.06781277948211042, 'depth': 8, 'boosting_type': 'Plain', 'bootstrap_type': 'Bernoulli', 'subsample': 0.3798646417320264}. Best is trial 7 with value: 0.9341666666666667.\u001b[0m\n",
      "\u001b[32m[I 2022-05-08 17:14:52,625]\u001b[0m Trial 13 finished with value: 0.9133333333333333 and parameters: {'objective': 'Logloss', 'colsample_bylevel': 0.03366943270419093, 'depth': 6, 'boosting_type': 'Plain', 'bootstrap_type': 'Bernoulli', 'subsample': 0.10669634476239964}. Best is trial 7 with value: 0.9341666666666667.\u001b[0m\n",
      "\u001b[32m[I 2022-05-08 17:14:59,549]\u001b[0m Trial 14 finished with value: 0.925 and parameters: {'objective': 'Logloss', 'colsample_bylevel': 0.062430724798173416, 'depth': 3, 'boosting_type': 'Plain', 'bootstrap_type': 'Bernoulli', 'subsample': 0.9667027840919893}. Best is trial 7 with value: 0.9341666666666667.\u001b[0m\n",
      "\u001b[32m[I 2022-05-08 17:15:06,346]\u001b[0m Trial 15 finished with value: 0.9125 and parameters: {'objective': 'Logloss', 'colsample_bylevel': 0.03153341293904274, 'depth': 6, 'boosting_type': 'Plain', 'bootstrap_type': 'Bayesian', 'bagging_temperature': 0.6025255456658227}. Best is trial 7 with value: 0.9341666666666667.\u001b[0m\n",
      "\u001b[32m[I 2022-05-08 17:15:14,346]\u001b[0m Trial 16 finished with value: 0.8725 and parameters: {'objective': 'Logloss', 'colsample_bylevel': 0.012318594041809919, 'depth': 9, 'boosting_type': 'Plain', 'bootstrap_type': 'Bayesian', 'bagging_temperature': 3.2882505552852805}. Best is trial 7 with value: 0.9341666666666667.\u001b[0m\n",
      "\u001b[32m[I 2022-05-08 17:15:21,325]\u001b[0m Trial 17 finished with value: 0.9291666666666667 and parameters: {'objective': 'Logloss', 'colsample_bylevel': 0.08030299484409975, 'depth': 1, 'boosting_type': 'Plain', 'bootstrap_type': 'Bernoulli', 'subsample': 0.608478973340539}. Best is trial 7 with value: 0.9341666666666667.\u001b[0m\n",
      "\u001b[32m[I 2022-05-08 17:15:45,380]\u001b[0m Trial 18 finished with value: 0.9166666666666666 and parameters: {'objective': 'CrossEntropy', 'colsample_bylevel': 0.05810618270735897, 'depth': 3, 'boosting_type': 'Ordered', 'bootstrap_type': 'Bernoulli', 'subsample': 0.47462294294397794}. Best is trial 7 with value: 0.9341666666666667.\u001b[0m\n",
      "\u001b[32m[I 2022-05-08 17:15:52,780]\u001b[0m Trial 19 finished with value: 0.9191666666666667 and parameters: {'objective': 'Logloss', 'colsample_bylevel': 0.03638349323661956, 'depth': 5, 'boosting_type': 'Plain', 'bootstrap_type': 'Bayesian', 'bagging_temperature': 3.4419938294353236}. Best is trial 7 with value: 0.9341666666666667.\u001b[0m\n",
      "\u001b[32m[I 2022-05-08 17:16:02,239]\u001b[0m Trial 20 finished with value: 0.925 and parameters: {'objective': 'Logloss', 'colsample_bylevel': 0.07868898191256783, 'depth': 7, 'boosting_type': 'Plain', 'bootstrap_type': 'Bayesian', 'bagging_temperature': 2.4651875739583673}. Best is trial 7 with value: 0.9341666666666667.\u001b[0m\n",
      "\u001b[32m[I 2022-05-08 17:16:08,756]\u001b[0m Trial 21 finished with value: 0.9208333333333333 and parameters: {'objective': 'Logloss', 'colsample_bylevel': 0.09057230632466695, 'depth': 1, 'boosting_type': 'Plain', 'bootstrap_type': 'Bernoulli', 'subsample': 0.6797846022748661}. Best is trial 7 with value: 0.9341666666666667.\u001b[0m\n",
      "\u001b[32m[I 2022-05-08 17:16:16,046]\u001b[0m Trial 22 finished with value: 0.9233333333333333 and parameters: {'objective': 'Logloss', 'colsample_bylevel': 0.09767192908831014, 'depth': 2, 'boosting_type': 'Plain', 'bootstrap_type': 'Bernoulli', 'subsample': 0.7272209019071867}. Best is trial 7 with value: 0.9341666666666667.\u001b[0m\n",
      "\u001b[32m[I 2022-05-08 17:16:22,954]\u001b[0m Trial 23 finished with value: 0.925 and parameters: {'objective': 'Logloss', 'colsample_bylevel': 0.08134990226753466, 'depth': 2, 'boosting_type': 'Plain', 'bootstrap_type': 'Bernoulli', 'subsample': 0.55887682771987}. Best is trial 7 with value: 0.9341666666666667.\u001b[0m\n",
      "\u001b[32m[I 2022-05-08 17:16:30,308]\u001b[0m Trial 24 finished with value: 0.9258333333333333 and parameters: {'objective': 'Logloss', 'colsample_bylevel': 0.08917673043076826, 'depth': 1, 'boosting_type': 'Plain', 'bootstrap_type': 'Bernoulli', 'subsample': 0.8446814173251918}. Best is trial 7 with value: 0.9341666666666667.\u001b[0m\n",
      "\u001b[32m[I 2022-05-08 17:16:37,832]\u001b[0m Trial 25 finished with value: 0.9075 and parameters: {'objective': 'Logloss', 'colsample_bylevel': 0.07321973501698395, 'depth': 4, 'boosting_type': 'Plain', 'bootstrap_type': 'Bernoulli', 'subsample': 0.3360791417397274}. Best is trial 7 with value: 0.9341666666666667.\u001b[0m\n",
      "\u001b[32m[I 2022-05-08 17:17:06,847]\u001b[0m Trial 26 finished with value: 0.935 and parameters: {'objective': 'CrossEntropy', 'colsample_bylevel': 0.08653597510641592, 'depth': 3, 'boosting_type': 'Ordered', 'bootstrap_type': 'Bernoulli', 'subsample': 0.5707563268816648}. Best is trial 26 with value: 0.935.\u001b[0m\n",
      "\u001b[32m[I 2022-05-08 17:17:46,106]\u001b[0m Trial 27 finished with value: 0.91 and parameters: {'objective': 'CrossEntropy', 'colsample_bylevel': 0.08727360328468112, 'depth': 5, 'boosting_type': 'Ordered', 'bootstrap_type': 'Bayesian', 'bagging_temperature': 5.9944164823218165}. Best is trial 26 with value: 0.935.\u001b[0m\n",
      "\u001b[32m[I 2022-05-08 17:18:13,500]\u001b[0m Trial 28 finished with value: 0.9333333333333333 and parameters: {'objective': 'CrossEntropy', 'colsample_bylevel': 0.09583280359589139, 'depth': 3, 'boosting_type': 'Ordered', 'bootstrap_type': 'Bernoulli', 'subsample': 0.2023470806016872}. Best is trial 26 with value: 0.935.\u001b[0m\n",
      "\u001b[32m[I 2022-05-08 17:18:39,201]\u001b[0m Trial 29 finished with value: 0.9258333333333333 and parameters: {'objective': 'CrossEntropy', 'colsample_bylevel': 0.09484454610052566, 'depth': 3, 'boosting_type': 'Ordered', 'bootstrap_type': 'Bernoulli', 'subsample': 0.14429345697825874}. Best is trial 26 with value: 0.935.\u001b[0m\n",
      "\u001b[32m[I 2022-05-08 17:19:04,060]\u001b[0m Trial 30 finished with value: 0.9291666666666667 and parameters: {'objective': 'CrossEntropy', 'colsample_bylevel': 0.0865998144586279, 'depth': 3, 'boosting_type': 'Ordered', 'bootstrap_type': 'MVS'}. Best is trial 26 with value: 0.935.\u001b[0m\n",
      "\u001b[32m[I 2022-05-08 17:19:32,513]\u001b[0m Trial 31 finished with value: 0.9158333333333334 and parameters: {'objective': 'CrossEntropy', 'colsample_bylevel': 0.09879752006472198, 'depth': 4, 'boosting_type': 'Ordered', 'bootstrap_type': 'Bernoulli', 'subsample': 0.2983438273725634}. Best is trial 26 with value: 0.935.\u001b[0m\n",
      "\u001b[32m[I 2022-05-08 17:19:58,645]\u001b[0m Trial 32 finished with value: 0.9133333333333333 and parameters: {'objective': 'CrossEntropy', 'colsample_bylevel': 0.04080684580226716, 'depth': 6, 'boosting_type': 'Ordered', 'bootstrap_type': 'Bernoulli', 'subsample': 0.22912465837213142}. Best is trial 26 with value: 0.935.\u001b[0m\n",
      "\u001b[32m[I 2022-05-08 17:20:23,581]\u001b[0m Trial 33 finished with value: 0.9158333333333334 and parameters: {'objective': 'CrossEntropy', 'colsample_bylevel': 0.055213697244529396, 'depth': 8, 'boosting_type': 'Ordered', 'bootstrap_type': 'Bernoulli', 'subsample': 0.4316074494673921}. Best is trial 26 with value: 0.935.\u001b[0m\n",
      "\u001b[32m[I 2022-05-08 17:20:50,583]\u001b[0m Trial 34 finished with value: 0.915 and parameters: {'objective': 'CrossEntropy', 'colsample_bylevel': 0.0935212316027062, 'depth': 5, 'boosting_type': 'Ordered', 'bootstrap_type': 'MVS'}. Best is trial 26 with value: 0.935.\u001b[0m\n",
      "\u001b[32m[I 2022-05-08 17:21:13,905]\u001b[0m Trial 35 finished with value: 0.9258333333333333 and parameters: {'objective': 'CrossEntropy', 'colsample_bylevel': 0.07435529700744707, 'depth': 2, 'boosting_type': 'Ordered', 'bootstrap_type': 'Bayesian', 'bagging_temperature': 1.886469506886984}. Best is trial 26 with value: 0.935.\u001b[0m\n",
      "\u001b[32m[I 2022-05-08 17:21:40,658]\u001b[0m Trial 36 finished with value: 0.9266666666666666 and parameters: {'objective': 'CrossEntropy', 'colsample_bylevel': 0.08501078750544354, 'depth': 9, 'boosting_type': 'Ordered', 'bootstrap_type': 'Bernoulli', 'subsample': 0.8175369175460749}. Best is trial 26 with value: 0.935.\u001b[0m\n",
      "\u001b[32m[I 2022-05-08 17:22:02,609]\u001b[0m Trial 37 finished with value: 0.9058333333333334 and parameters: {'objective': 'CrossEntropy', 'colsample_bylevel': 0.027288997982200205, 'depth': 7, 'boosting_type': 'Ordered', 'bootstrap_type': 'MVS'}. Best is trial 26 with value: 0.935.\u001b[0m\n"
     ]
    }
   ],
   "source": [
    "study = optuna.create_study(direction='maximize')\n",
    "study.optimize(objective, n_trials=50, timeout=600)"
   ]
  },
  {
   "cell_type": "code",
   "execution_count": 10,
   "metadata": {},
   "outputs": [
    {
     "name": "stdout",
     "output_type": "stream",
     "text": [
      "NUmber of finshed trials: 38\n",
      "Best trial:\n",
      " Value: 0.935\n",
      " Params: \n",
      " objective: CrossEntropy\n",
      " colsample_bylevel: 0.08653597510641592\n",
      " depth: 3\n",
      " boosting_type: Ordered\n",
      " bootstrap_type: Bernoulli\n",
      " subsample: 0.5707563268816648\n"
     ]
    }
   ],
   "source": [
    "print('NUmber of finshed trials: {}'.format(len(study.trials)))\n",
    "print('Best trial:')\n",
    "\n",
    "trial = study.best_trial\n",
    "\n",
    "print(' Value: {}'.format(trial.value))\n",
    "\n",
    "print(' Params: ')\n",
    "for key, value in trial.params.items():\n",
    "    print(' {}: {}'.format(key, value))"
   ]
  },
  {
   "cell_type": "code",
   "execution_count": 11,
   "metadata": {},
   "outputs": [],
   "source": [
    "train_x, test_x, train_y, test_y = train_test_split(x, y, test_size=0.3, random_state=30)\n"
   ]
  },
  {
   "cell_type": "code",
   "execution_count": 12,
   "metadata": {},
   "outputs": [],
   "source": [
    "cb_loan = cb.CatBoostClassifier(n_estimators=100,\n",
    "                                objective='CrossEntropy',\n",
    "                                colsample_bylevel=0.09,\n",
    "                                depth=4,\n",
    "                                boosting_type='Plain',\n",
    "                                bootstrap_type='Bernoulli',\n",
    "                                subsample=0.34,\n",
    "                                loss_function='Logloss',\n",
    "                                learning_rate=0.1,\n",
    "                                task_type='CPU',\n",
    "                                random_state=1,\n",
    "                                verbose=False)"
   ]
  },
  {
   "cell_type": "code",
   "execution_count": 13,
   "metadata": {},
   "outputs": [
    {
     "data": {
      "text/plain": [
       "<catboost.core.CatBoostClassifier at 0x1f13aba90d0>"
      ]
     },
     "execution_count": 13,
     "metadata": {},
     "output_type": "execute_result"
    }
   ],
   "source": [
    "cb_loan.fit(train_x, train_y)"
   ]
  },
  {
   "cell_type": "code",
   "execution_count": 14,
   "metadata": {},
   "outputs": [],
   "source": [
    "loan_predicted = cb_loan.predict(test_x)"
   ]
  },
  {
   "cell_type": "code",
   "execution_count": 15,
   "metadata": {},
   "outputs": [],
   "source": [
    "model_rmse = np.sqrt(mse(test_y, loan_predicted))"
   ]
  },
  {
   "cell_type": "code",
   "execution_count": 16,
   "metadata": {},
   "outputs": [
    {
     "data": {
      "text/plain": [
       "0.2813657169355689"
      ]
     },
     "execution_count": 16,
     "metadata": {},
     "output_type": "execute_result"
    }
   ],
   "source": [
    "model_rmse"
   ]
  },
  {
   "cell_type": "code",
   "execution_count": 17,
   "metadata": {},
   "outputs": [],
   "source": [
    "single_instance = {\n",
    "    'Gender' : 1, \n",
    "    'Married' : 1, \n",
    "    'Dependents' : 1.02, \n",
    "    'Education' : 0, \n",
    "    'Self_Employed' : 0,\n",
    "       'ApplicantIncome': 60, \n",
    "       'CoapplicantIncome' : 2263.43, \n",
    "       'LoanAmount' : 362.03,\n",
    "       'Loan_Amount_Term' : 360, \n",
    "       'Credit_History' : 1, \n",
    "       'Property_Area': 2,\n",
    "}"
   ]
  },
  {
   "cell_type": "code",
   "execution_count": 18,
   "metadata": {},
   "outputs": [],
   "source": [
    "def predict_discrete (cb_loan, single_input):\n",
    "    #Data preparation\n",
    "    input_df = pd.DataFrame([single_input])\n",
    "    \n",
    "    #input_df[numerical_cols] = imputer.transform(input_df[numerical_cols])\n",
    "    #input_df[numerical_cols] = scaler.transform(input_df[numerical_cols])\n",
    "    #input_df[encoded_cols] = encoder.transform(input_df[categorical_cols])\n",
    "\n",
    "    x_input = input_df\n",
    "    predictions = cb_loan.predict(x_input)[0]\n",
    "    probability = cb_loan.predict_proba(x_input)[0][list(cb_loan.classes_).index(predictions)]\n",
    "\n",
    "    return predictions, probability"
   ]
  },
  {
   "cell_type": "code",
   "execution_count": 19,
   "metadata": {},
   "outputs": [
    {
     "data": {
      "text/plain": [
       "(1, 0.9606773657325564)"
      ]
     },
     "execution_count": 19,
     "metadata": {},
     "output_type": "execute_result"
    }
   ],
   "source": [
    "predict_discrete(cb_loan, single_instance)"
   ]
  }
 ],
 "metadata": {
  "interpreter": {
   "hash": "153b441b79b186a170e66d39f3ac68da9dc112e187bf195c7a204943ec397faa"
  },
  "kernelspec": {
   "display_name": "Python 3.9.10 64-bit",
   "language": "python",
   "name": "python3"
  },
  "language_info": {
   "codemirror_mode": {
    "name": "ipython",
    "version": 3
   },
   "file_extension": ".py",
   "mimetype": "text/x-python",
   "name": "python",
   "nbconvert_exporter": "python",
   "pygments_lexer": "ipython3",
   "version": "3.9.10"
  },
  "orig_nbformat": 4
 },
 "nbformat": 4,
 "nbformat_minor": 2
}
